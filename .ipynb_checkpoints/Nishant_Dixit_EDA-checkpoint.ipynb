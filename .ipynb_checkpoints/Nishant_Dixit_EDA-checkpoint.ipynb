{
 "cells": [
  {
   "cell_type": "markdown",
   "id": "8875f469",
   "metadata": {},
   "source": [
    "# Importing the required Libraries"
   ]
  },
  {
   "cell_type": "code",
   "execution_count": 1,
   "id": "a8dfb99c",
   "metadata": {},
   "outputs": [],
   "source": [
    "import numpy as np\n",
    "import pandas as pd\n",
    "import matplotlib.pyplot as plt\n",
    "import seaborn as sns\n",
    "import warnings\n",
    "warnings.filterwarnings('ignore')"
   ]
  },
  {
   "cell_type": "markdown",
   "id": "580661dd",
   "metadata": {},
   "source": [
    "# Loading the Data "
   ]
  },
  {
   "cell_type": "code",
   "execution_count": 115,
   "id": "db46e473",
   "metadata": {},
   "outputs": [],
   "source": [
    "customers = pd.read_csv('Customers.csv')\n",
    "transactions = pd.read_csv('Transactions.csv')\n",
    "products = pd.read_csv('Products.csv')"
   ]
  },
  {
   "cell_type": "markdown",
   "id": "6fda0002",
   "metadata": {},
   "source": [
    "# Data Understanding"
   ]
  },
  {
   "cell_type": "code",
   "execution_count": 116,
   "id": "150dc594",
   "metadata": {},
   "outputs": [
    {
     "name": "stdout",
     "output_type": "stream",
     "text": [
      "(200, 4) (100, 4) (1000, 7)\n"
     ]
    }
   ],
   "source": [
    "print(customers.shape, products.shape, transactions.shape)"
   ]
  },
  {
   "cell_type": "code",
   "execution_count": 117,
   "id": "1b15374a",
   "metadata": {},
   "outputs": [
    {
     "data": {
      "text/html": [
       "<div>\n",
       "<style scoped>\n",
       "    .dataframe tbody tr th:only-of-type {\n",
       "        vertical-align: middle;\n",
       "    }\n",
       "\n",
       "    .dataframe tbody tr th {\n",
       "        vertical-align: top;\n",
       "    }\n",
       "\n",
       "    .dataframe thead th {\n",
       "        text-align: right;\n",
       "    }\n",
       "</style>\n",
       "<table border=\"1\" class=\"dataframe\">\n",
       "  <thead>\n",
       "    <tr style=\"text-align: right;\">\n",
       "      <th></th>\n",
       "      <th>CustomerID</th>\n",
       "      <th>CustomerName</th>\n",
       "      <th>Region</th>\n",
       "      <th>SignupDate</th>\n",
       "    </tr>\n",
       "  </thead>\n",
       "  <tbody>\n",
       "    <tr>\n",
       "      <th>0</th>\n",
       "      <td>C0001</td>\n",
       "      <td>Lawrence Carroll</td>\n",
       "      <td>South America</td>\n",
       "      <td>2022-07-10</td>\n",
       "    </tr>\n",
       "    <tr>\n",
       "      <th>1</th>\n",
       "      <td>C0002</td>\n",
       "      <td>Elizabeth Lutz</td>\n",
       "      <td>Asia</td>\n",
       "      <td>2022-02-13</td>\n",
       "    </tr>\n",
       "    <tr>\n",
       "      <th>2</th>\n",
       "      <td>C0003</td>\n",
       "      <td>Michael Rivera</td>\n",
       "      <td>South America</td>\n",
       "      <td>2024-03-07</td>\n",
       "    </tr>\n",
       "    <tr>\n",
       "      <th>3</th>\n",
       "      <td>C0004</td>\n",
       "      <td>Kathleen Rodriguez</td>\n",
       "      <td>South America</td>\n",
       "      <td>2022-10-09</td>\n",
       "    </tr>\n",
       "    <tr>\n",
       "      <th>4</th>\n",
       "      <td>C0005</td>\n",
       "      <td>Laura Weber</td>\n",
       "      <td>Asia</td>\n",
       "      <td>2022-08-15</td>\n",
       "    </tr>\n",
       "  </tbody>\n",
       "</table>\n",
       "</div>"
      ],
      "text/plain": [
       "  CustomerID        CustomerName         Region  SignupDate\n",
       "0      C0001    Lawrence Carroll  South America  2022-07-10\n",
       "1      C0002      Elizabeth Lutz           Asia  2022-02-13\n",
       "2      C0003      Michael Rivera  South America  2024-03-07\n",
       "3      C0004  Kathleen Rodriguez  South America  2022-10-09\n",
       "4      C0005         Laura Weber           Asia  2022-08-15"
      ]
     },
     "execution_count": 117,
     "metadata": {},
     "output_type": "execute_result"
    }
   ],
   "source": [
    "customers.head()"
   ]
  },
  {
   "cell_type": "code",
   "execution_count": 118,
   "id": "599a8ffc",
   "metadata": {},
   "outputs": [
    {
     "data": {
      "text/html": [
       "<div>\n",
       "<style scoped>\n",
       "    .dataframe tbody tr th:only-of-type {\n",
       "        vertical-align: middle;\n",
       "    }\n",
       "\n",
       "    .dataframe tbody tr th {\n",
       "        vertical-align: top;\n",
       "    }\n",
       "\n",
       "    .dataframe thead th {\n",
       "        text-align: right;\n",
       "    }\n",
       "</style>\n",
       "<table border=\"1\" class=\"dataframe\">\n",
       "  <thead>\n",
       "    <tr style=\"text-align: right;\">\n",
       "      <th></th>\n",
       "      <th>ProductID</th>\n",
       "      <th>ProductName</th>\n",
       "      <th>Category</th>\n",
       "      <th>Price</th>\n",
       "    </tr>\n",
       "  </thead>\n",
       "  <tbody>\n",
       "    <tr>\n",
       "      <th>0</th>\n",
       "      <td>P001</td>\n",
       "      <td>ActiveWear Biography</td>\n",
       "      <td>Books</td>\n",
       "      <td>169.30</td>\n",
       "    </tr>\n",
       "    <tr>\n",
       "      <th>1</th>\n",
       "      <td>P002</td>\n",
       "      <td>ActiveWear Smartwatch</td>\n",
       "      <td>Electronics</td>\n",
       "      <td>346.30</td>\n",
       "    </tr>\n",
       "    <tr>\n",
       "      <th>2</th>\n",
       "      <td>P003</td>\n",
       "      <td>ComfortLiving Biography</td>\n",
       "      <td>Books</td>\n",
       "      <td>44.12</td>\n",
       "    </tr>\n",
       "    <tr>\n",
       "      <th>3</th>\n",
       "      <td>P004</td>\n",
       "      <td>BookWorld Rug</td>\n",
       "      <td>Home Decor</td>\n",
       "      <td>95.69</td>\n",
       "    </tr>\n",
       "    <tr>\n",
       "      <th>4</th>\n",
       "      <td>P005</td>\n",
       "      <td>TechPro T-Shirt</td>\n",
       "      <td>Clothing</td>\n",
       "      <td>429.31</td>\n",
       "    </tr>\n",
       "  </tbody>\n",
       "</table>\n",
       "</div>"
      ],
      "text/plain": [
       "  ProductID              ProductName     Category   Price\n",
       "0      P001     ActiveWear Biography        Books  169.30\n",
       "1      P002    ActiveWear Smartwatch  Electronics  346.30\n",
       "2      P003  ComfortLiving Biography        Books   44.12\n",
       "3      P004            BookWorld Rug   Home Decor   95.69\n",
       "4      P005          TechPro T-Shirt     Clothing  429.31"
      ]
     },
     "execution_count": 118,
     "metadata": {},
     "output_type": "execute_result"
    }
   ],
   "source": [
    "products.head()"
   ]
  },
  {
   "cell_type": "code",
   "execution_count": 119,
   "id": "a211c36b",
   "metadata": {},
   "outputs": [
    {
     "data": {
      "text/html": [
       "<div>\n",
       "<style scoped>\n",
       "    .dataframe tbody tr th:only-of-type {\n",
       "        vertical-align: middle;\n",
       "    }\n",
       "\n",
       "    .dataframe tbody tr th {\n",
       "        vertical-align: top;\n",
       "    }\n",
       "\n",
       "    .dataframe thead th {\n",
       "        text-align: right;\n",
       "    }\n",
       "</style>\n",
       "<table border=\"1\" class=\"dataframe\">\n",
       "  <thead>\n",
       "    <tr style=\"text-align: right;\">\n",
       "      <th></th>\n",
       "      <th>TransactionID</th>\n",
       "      <th>CustomerID</th>\n",
       "      <th>ProductID</th>\n",
       "      <th>TransactionDate</th>\n",
       "      <th>Quantity</th>\n",
       "      <th>TotalValue</th>\n",
       "      <th>Price</th>\n",
       "    </tr>\n",
       "  </thead>\n",
       "  <tbody>\n",
       "    <tr>\n",
       "      <th>0</th>\n",
       "      <td>T00001</td>\n",
       "      <td>C0199</td>\n",
       "      <td>P067</td>\n",
       "      <td>2024-08-25 12:38:23</td>\n",
       "      <td>1</td>\n",
       "      <td>300.68</td>\n",
       "      <td>300.68</td>\n",
       "    </tr>\n",
       "    <tr>\n",
       "      <th>1</th>\n",
       "      <td>T00112</td>\n",
       "      <td>C0146</td>\n",
       "      <td>P067</td>\n",
       "      <td>2024-05-27 22:23:54</td>\n",
       "      <td>1</td>\n",
       "      <td>300.68</td>\n",
       "      <td>300.68</td>\n",
       "    </tr>\n",
       "    <tr>\n",
       "      <th>2</th>\n",
       "      <td>T00166</td>\n",
       "      <td>C0127</td>\n",
       "      <td>P067</td>\n",
       "      <td>2024-04-25 07:38:55</td>\n",
       "      <td>1</td>\n",
       "      <td>300.68</td>\n",
       "      <td>300.68</td>\n",
       "    </tr>\n",
       "    <tr>\n",
       "      <th>3</th>\n",
       "      <td>T00272</td>\n",
       "      <td>C0087</td>\n",
       "      <td>P067</td>\n",
       "      <td>2024-03-26 22:55:37</td>\n",
       "      <td>2</td>\n",
       "      <td>601.36</td>\n",
       "      <td>300.68</td>\n",
       "    </tr>\n",
       "    <tr>\n",
       "      <th>4</th>\n",
       "      <td>T00363</td>\n",
       "      <td>C0070</td>\n",
       "      <td>P067</td>\n",
       "      <td>2024-03-21 15:10:10</td>\n",
       "      <td>3</td>\n",
       "      <td>902.04</td>\n",
       "      <td>300.68</td>\n",
       "    </tr>\n",
       "  </tbody>\n",
       "</table>\n",
       "</div>"
      ],
      "text/plain": [
       "  TransactionID CustomerID ProductID      TransactionDate  Quantity  \\\n",
       "0        T00001      C0199      P067  2024-08-25 12:38:23         1   \n",
       "1        T00112      C0146      P067  2024-05-27 22:23:54         1   \n",
       "2        T00166      C0127      P067  2024-04-25 07:38:55         1   \n",
       "3        T00272      C0087      P067  2024-03-26 22:55:37         2   \n",
       "4        T00363      C0070      P067  2024-03-21 15:10:10         3   \n",
       "\n",
       "   TotalValue   Price  \n",
       "0      300.68  300.68  \n",
       "1      300.68  300.68  \n",
       "2      300.68  300.68  \n",
       "3      601.36  300.68  \n",
       "4      902.04  300.68  "
      ]
     },
     "execution_count": 119,
     "metadata": {},
     "output_type": "execute_result"
    }
   ],
   "source": [
    "transactions.head()"
   ]
  },
  {
   "cell_type": "code",
   "execution_count": 120,
   "id": "8ec795cd",
   "metadata": {
    "scrolled": true
   },
   "outputs": [
    {
     "name": "stdout",
     "output_type": "stream",
     "text": [
      "<class 'pandas.core.frame.DataFrame'>\n",
      "RangeIndex: 200 entries, 0 to 199\n",
      "Data columns (total 4 columns):\n",
      " #   Column        Non-Null Count  Dtype \n",
      "---  ------        --------------  ----- \n",
      " 0   CustomerID    200 non-null    object\n",
      " 1   CustomerName  200 non-null    object\n",
      " 2   Region        200 non-null    object\n",
      " 3   SignupDate    200 non-null    object\n",
      "dtypes: object(4)\n",
      "memory usage: 6.4+ KB\n",
      "None\n",
      "\n",
      "<class 'pandas.core.frame.DataFrame'>\n",
      "RangeIndex: 100 entries, 0 to 99\n",
      "Data columns (total 4 columns):\n",
      " #   Column       Non-Null Count  Dtype  \n",
      "---  ------       --------------  -----  \n",
      " 0   ProductID    100 non-null    object \n",
      " 1   ProductName  100 non-null    object \n",
      " 2   Category     100 non-null    object \n",
      " 3   Price        100 non-null    float64\n",
      "dtypes: float64(1), object(3)\n",
      "memory usage: 3.3+ KB\n",
      "None\n",
      "\n",
      "<class 'pandas.core.frame.DataFrame'>\n",
      "RangeIndex: 1000 entries, 0 to 999\n",
      "Data columns (total 7 columns):\n",
      " #   Column           Non-Null Count  Dtype  \n",
      "---  ------           --------------  -----  \n",
      " 0   TransactionID    1000 non-null   object \n",
      " 1   CustomerID       1000 non-null   object \n",
      " 2   ProductID        1000 non-null   object \n",
      " 3   TransactionDate  1000 non-null   object \n",
      " 4   Quantity         1000 non-null   int64  \n",
      " 5   TotalValue       1000 non-null   float64\n",
      " 6   Price            1000 non-null   float64\n",
      "dtypes: float64(2), int64(1), object(4)\n",
      "memory usage: 54.8+ KB\n",
      "None\n"
     ]
    }
   ],
   "source": [
    "print(customers.info())\n",
    "print()\n",
    "print(products.info())\n",
    "print()\n",
    "print(transactions.info())"
   ]
  },
  {
   "cell_type": "code",
   "execution_count": 121,
   "id": "ae8769a7",
   "metadata": {},
   "outputs": [],
   "source": [
    "# converting the data type of signupdate and transactiondate from object to datetime\n",
    "\n",
    "customers['SignupDate'] = pd.to_datetime(customers['SignupDate'])\n",
    "transactions['TransactionDate'] = pd.to_datetime(transactions['TransactionDate'])"
   ]
  },
  {
   "cell_type": "code",
   "execution_count": 122,
   "id": "4a401cde",
   "metadata": {},
   "outputs": [],
   "source": [
    "# Extracting year and month from the dates\n",
    "customers['signup_year'] = customers['SignupDate'].dt.year\n",
    "customers['signup_month'] = customers['SignupDate'].dt.month\n",
    "transactions['trans_year'] = transactions['TransactionDate'].dt.year\n",
    "transactions['trans_month'] = transactions['TransactionDate'].dt.month"
   ]
  },
  {
   "cell_type": "markdown",
   "id": "4a998ed2",
   "metadata": {},
   "source": [
    "# Data Exploration"
   ]
  },
  {
   "cell_type": "code",
   "execution_count": 123,
   "id": "d6ad7130",
   "metadata": {},
   "outputs": [
    {
     "name": "stdout",
     "output_type": "stream",
     "text": [
      "No.of.duplicates present:  0\n",
      "No.of.duplicates present:  0\n",
      "No.of.duplicates present:  0\n"
     ]
    }
   ],
   "source": [
    "for i in [customers, products, transactions]:\n",
    "    print('No.of.duplicates present: ', i.duplicated().sum())"
   ]
  },
  {
   "cell_type": "code",
   "execution_count": 124,
   "id": "46eefa1d",
   "metadata": {},
   "outputs": [
    {
     "name": "stdout",
     "output_type": "stream",
     "text": [
      "No.of.missing values present:  CustomerID      0\n",
      "CustomerName    0\n",
      "Region          0\n",
      "SignupDate      0\n",
      "signup_year     0\n",
      "signup_month    0\n",
      "dtype: int64\n",
      "\n",
      "No.of.missing values present:  ProductID      0\n",
      "ProductName    0\n",
      "Category       0\n",
      "Price          0\n",
      "dtype: int64\n",
      "\n",
      "No.of.missing values present:  TransactionID      0\n",
      "CustomerID         0\n",
      "ProductID          0\n",
      "TransactionDate    0\n",
      "Quantity           0\n",
      "TotalValue         0\n",
      "Price              0\n",
      "trans_year         0\n",
      "trans_month        0\n",
      "dtype: int64\n",
      "\n"
     ]
    }
   ],
   "source": [
    "for i in [customers, products, transactions]:\n",
    "    print('No.of.missing values present: ', i.isna().sum())\n",
    "    print()"
   ]
  },
  {
   "cell_type": "markdown",
   "id": "aa20bd72",
   "metadata": {},
   "source": [
    "# Exploratory Data Analysis"
   ]
  },
  {
   "cell_type": "markdown",
   "id": "09cb81ca",
   "metadata": {},
   "source": [
    "## Analysis of Customers"
   ]
  },
  {
   "cell_type": "code",
   "execution_count": 125,
   "id": "9a7560cd",
   "metadata": {
    "scrolled": true
   },
   "outputs": [
    {
     "data": {
      "text/plain": [
       "Index(['CustomerID', 'CustomerName', 'Region', 'SignupDate', 'signup_year',\n",
       "       'signup_month'],\n",
       "      dtype='object')"
      ]
     },
     "execution_count": 125,
     "metadata": {},
     "output_type": "execute_result"
    }
   ],
   "source": [
    "customers.columns"
   ]
  },
  {
   "cell_type": "code",
   "execution_count": 186,
   "id": "81974096",
   "metadata": {},
   "outputs": [],
   "source": [
    "def customer_summary(customers):\n",
    "    total_no_of_customers = customers['CustomerID'].count()\n",
    "    ym = customers['SignupDate'].dt.to_period('M')\n",
    "    \n",
    "    print('Total_Number_of _Customers = ', total_no_of_customers )\n",
    "    \n",
    "\n",
    "    plt.figure(figsize=(15, 8))\n",
    "    plt.subplot(2,2,1)\n",
    "    plt.title('Distribution of Customers by Region')\n",
    "    customers.groupby('Region')['CustomerID'].count().plot(kind='pie', autopct='%.2f%%')\n",
    "    \n",
    "    \n",
    "    plt.subplot(2,2,2)\n",
    "    plt.title('Customer Signup - Yearwise')\n",
    "    customers.groupby('signup_year')['CustomerID'].count().plot(kind='line', marker='o')\n",
    "    \n",
    "    plt.subplot(2,2,3)\n",
    "    plt.title('Customer Signup - Monthwise')\n",
    "    customers.groupby('signup_month')['CustomerID'].count().plot(kind='line', marker='o')\n",
    "    plt.grid(axis='x')\n",
    "    \n",
    "    plt.subplot(2,2,4)\n",
    "    plt.title('Customer Signup Over Time (Year-Month)')\n",
    "    customers.groupby(ym)['CustomerID'].count().plot(kind='line', marker='o')\n",
    "    plt.grid(axis='x', which='minor')\n",
    "    plt.tight_layout()\n",
    "    plt.show()\n",
    "    "
   ]
  },
  {
   "cell_type": "code",
   "execution_count": 187,
   "id": "c6bdd473",
   "metadata": {},
   "outputs": [
    {
     "name": "stdout",
     "output_type": "stream",
     "text": [
      "Total_Number_of _Customers =  200\n"
     ]
    },
    {
     "data": {
      "image/png": "[encoded data removed]",
      "text/plain": [
       "<Figure size 1500x800 with 4 Axes>"
      ]
     },
     "metadata": {},
     "output_type": "display_data"
    }
   ],
   "source": [
    "customer_summary(customers)"
   ]
  },
  {
   "cell_type": "code",
   "execution_count": 179,
   "id": "f93d4908",
   "metadata": {
    "scrolled": true
   },
   "outputs": [
    {
     "name": "stdout",
     "output_type": "stream",
     "text": [
      "Count of customers signups in 2023:  57\n",
      "Percentage decrease of customer signups in 2023 from 2022:  10.9375\n",
      "Percentage Increase of customer signups in 2024 from 2022:  23.4375\n"
     ]
    }
   ],
   "source": [
    "print('Count of customers signups in 2023: ', customers[customers.signup_year==2023].CustomerID.nunique())\n",
    "\n",
    "diff1 = customers[customers.signup_year==2022].CustomerID.nunique() - customers[customers.signup_year==2023].CustomerID.nunique()\n",
    "diff2 = customers[customers.signup_year==2024].CustomerID.nunique() - customers[customers.signup_year==2022].CustomerID.nunique()\n",
    "\n",
    "print('Percentage decrease of customer signups in 2023 from 2022: ', \n",
    "      (diff1/customers[customers.signup_year==2022].CustomerID.nunique())*100)\n",
    "print('Percentage Increase of customer signups in 2024 from 2022: ', \n",
    "      (diff2/customers[customers.signup_year==2022].CustomerID.nunique())*100)"
   ]
  },
  {
   "cell_type": "markdown",
   "id": "0abc7464",
   "metadata": {},
   "source": [
    "### Inferences:\n",
    "* The total number of customers are 200 and are from 4 regions: South America, Europe, North America, and Asia.\n",
    "* The customer percent from the 4 region is almost around 25% and South America(29.5%) tops the list.\n",
    "* Customer signups dropped almost 11% in 2023 when compared with 2022 whereas a 23% increase in signups was observed in 2024.\n",
    "* Overall, April has the maximum signups followed by September and February."
   ]
  },
  {
   "cell_type": "markdown",
   "id": "69d2cbf4",
   "metadata": {},
   "source": [
    "## Analysis of Products"
   ]
  },
  {
   "cell_type": "code",
   "execution_count": 191,
   "id": "00c85d4f",
   "metadata": {
    "scrolled": true
   },
   "outputs": [
    {
     "data": {
      "text/html": [
       "<div>\n",
       "<style scoped>\n",
       "    .dataframe tbody tr th:only-of-type {\n",
       "        vertical-align: middle;\n",
       "    }\n",
       "\n",
       "    .dataframe tbody tr th {\n",
       "        vertical-align: top;\n",
       "    }\n",
       "\n",
       "    .dataframe thead th {\n",
       "        text-align: right;\n",
       "    }\n",
       "</style>\n",
       "<table border=\"1\" class=\"dataframe\">\n",
       "  <thead>\n",
       "    <tr style=\"text-align: right;\">\n",
       "      <th></th>\n",
       "      <th>Price</th>\n",
       "    </tr>\n",
       "  </thead>\n",
       "  <tbody>\n",
       "    <tr>\n",
       "      <th>count</th>\n",
       "      <td>100.000000</td>\n",
       "    </tr>\n",
       "    <tr>\n",
       "      <th>mean</th>\n",
       "      <td>267.551700</td>\n",
       "    </tr>\n",
       "    <tr>\n",
       "      <th>std</th>\n",
       "      <td>143.219383</td>\n",
       "    </tr>\n",
       "    <tr>\n",
       "      <th>min</th>\n",
       "      <td>16.080000</td>\n",
       "    </tr>\n",
       "    <tr>\n",
       "      <th>25%</th>\n",
       "      <td>147.767500</td>\n",
       "    </tr>\n",
       "    <tr>\n",
       "      <th>50%</th>\n",
       "      <td>292.875000</td>\n",
       "    </tr>\n",
       "    <tr>\n",
       "      <th>75%</th>\n",
       "      <td>397.090000</td>\n",
       "    </tr>\n",
       "    <tr>\n",
       "      <th>max</th>\n",
       "      <td>497.760000</td>\n",
       "    </tr>\n",
       "  </tbody>\n",
       "</table>\n",
       "</div>"
      ],
      "text/plain": [
       "            Price\n",
       "count  100.000000\n",
       "mean   267.551700\n",
       "std    143.219383\n",
       "min     16.080000\n",
       "25%    147.767500\n",
       "50%    292.875000\n",
       "75%    397.090000\n",
       "max    497.760000"
      ]
     },
     "execution_count": 191,
     "metadata": {},
     "output_type": "execute_result"
    }
   ],
   "source": [
    "products.describe()"
   ]
  },
  {
   "cell_type": "code",
   "execution_count": 196,
   "id": "85018b4d",
   "metadata": {},
   "outputs": [],
   "source": [
    "def products_summary(products):\n",
    "    print('Total Number of Products = ', products['ProductID'].nunique())\n",
    "    print(products.describe())\n",
    "    \n",
    "    plt.figure(figsize=(12,5))\n",
    "    plt.subplot(1,2,1)\n",
    "    plt.title('Products count by Category')\n",
    "    products.groupby('Category')['ProductID'].count().plot(kind='pie', autopct = '%.2f%%')\n",
    "    \n",
    "    plt.subplot(1,2,2)\n",
    "    plt.title('Average Price by Category')\n",
    "    avg = products.groupby('Category')['Price'].mean().sort_values(ascending=False)\n",
    "    sns.barplot(x=avg.index, y=avg.values, color='cyan')\n",
    "    \n",
    "    for i,v in enumerate(avg):\n",
    "        plt.text(i, v, f'{round(v,2)}', ha='center')\n",
    "    \n",
    "    plt.tight_layout()\n",
    "    plt.show()\n",
    "    \n",
    "    print('Top 10 Expensive Products: \\n', products.nlargest(10, 'Price'))\n",
    "    print()\n",
    "    print('Top 10 Economical Products: \\n', products.nsmallest(10, 'Price'))"
   ]
  },
  {
   "cell_type": "code",
   "execution_count": 197,
   "id": "3707a11f",
   "metadata": {},
   "outputs": [
    {
     "name": "stdout",
     "output_type": "stream",
     "text": [
      "Total Number of Products =  100\n",
      "            Price\n",
      "count  100.000000\n",
      "mean   267.551700\n",
      "std    143.219383\n",
      "min     16.080000\n",
      "25%    147.767500\n",
      "50%    292.875000\n",
      "75%    397.090000\n",
      "max    497.760000\n"
     ]
    },
    {
     "data": {
      "image/png": "[encoded data removed]",
      "text/plain": [
       "<Figure size 1200x500 with 2 Axes>"
      ]
     },
     "metadata": {},
     "output_type": "display_data"
    },
    {
     "name": "stdout",
     "output_type": "stream",
     "text": [
      "Top 10 Expensive Products: \n",
      "    ProductID               ProductName     Category   Price\n",
      "74      P075          TechPro Textbook        Books  497.76\n",
      "31      P032        BookWorld Cookbook        Books  488.63\n",
      "44      P045         SoundWave T-Shirt     Clothing  481.78\n",
      "16      P017       ActiveWear Textbook        Books  469.77\n",
      "36      P037      SoundWave Smartwatch  Electronics  459.86\n",
      "40      P041  ComfortLiving Smartphone  Electronics  456.28\n",
      "82      P083     ActiveWear Smartwatch  Electronics  455.72\n",
      "22      P023   ActiveWear Cookware Set   Home Decor  454.53\n",
      "63      P064   HomeSense Running Shoes     Clothing  452.42\n",
      "93      P094    HomeSense Cookware Set   Home Decor  447.34\n",
      "\n",
      "Top 10 Economical Products: \n",
      "    ProductID               ProductName     Category  Price\n",
      "55      P056      SoundWave Smartwatch  Electronics  16.08\n",
      "43      P044  ActiveWear Running Shoes     Clothing  18.82\n",
      "13      P014         ActiveWear Jacket     Clothing  26.26\n",
      "72      P073      ComfortLiving Laptop  Electronics  26.99\n",
      "34      P035        ActiveWear T-Shirt     Clothing  30.59\n",
      "62      P063             TechPro Novel        Books  33.59\n",
      "77      P078             HomeSense Rug   Home Decor  41.18\n",
      "2       P003   ComfortLiving Biography        Books  44.12\n",
      "69      P070         HomeSense T-Shirt     Clothing  48.69\n",
      "81      P082         ComfortLiving Rug   Home Decor  55.99\n"
     ]
    }
   ],
   "source": [
    "products_summary(products)"
   ]
  },
  {
   "cell_type": "markdown",
   "id": "47f1e817",
   "metadata": {},
   "source": [
    "### Inferences\n",
    "* The total number of unique products are 100 and are available in 4 categories: Books, Electronics, Clothing and Homedecor.\n",
    "* The price of products range from 16 units of currency to around 498 units of currency.\n",
    "* Books and Electronics tops the products category with 26%, followed by clothing 25% and Homedecor 23%.\n",
    "* The average price of books is the highest (292 units of currency)."
   ]
  },
  {
   "cell_type": "markdown",
   "id": "bf198bec",
   "metadata": {},
   "source": [
    "## Analysis of Transactions"
   ]
  },
  {
   "cell_type": "code",
   "execution_count": 132,
   "id": "cdefa4f0",
   "metadata": {
    "scrolled": true
   },
   "outputs": [
    {
     "data": {
      "text/html": [
       "<div>\n",
       "<style scoped>\n",
       "    .dataframe tbody tr th:only-of-type {\n",
       "        vertical-align: middle;\n",
       "    }\n",
       "\n",
       "    .dataframe tbody tr th {\n",
       "        vertical-align: top;\n",
       "    }\n",
       "\n",
       "    .dataframe thead th {\n",
       "        text-align: right;\n",
       "    }\n",
       "</style>\n",
       "<table border=\"1\" class=\"dataframe\">\n",
       "  <thead>\n",
       "    <tr style=\"text-align: right;\">\n",
       "      <th></th>\n",
       "      <th>TransactionID</th>\n",
       "      <th>CustomerID</th>\n",
       "      <th>ProductID</th>\n",
       "      <th>TransactionDate</th>\n",
       "      <th>Quantity</th>\n",
       "      <th>TotalValue</th>\n",
       "      <th>Price</th>\n",
       "      <th>trans_year</th>\n",
       "      <th>trans_month</th>\n",
       "    </tr>\n",
       "  </thead>\n",
       "  <tbody>\n",
       "    <tr>\n",
       "      <th>0</th>\n",
       "      <td>T00001</td>\n",
       "      <td>C0199</td>\n",
       "      <td>P067</td>\n",
       "      <td>2024-08-25 12:38:23</td>\n",
       "      <td>1</td>\n",
       "      <td>300.68</td>\n",
       "      <td>300.68</td>\n",
       "      <td>2024</td>\n",
       "      <td>8</td>\n",
       "    </tr>\n",
       "    <tr>\n",
       "      <th>1</th>\n",
       "      <td>T00112</td>\n",
       "      <td>C0146</td>\n",
       "      <td>P067</td>\n",
       "      <td>2024-05-27 22:23:54</td>\n",
       "      <td>1</td>\n",
       "      <td>300.68</td>\n",
       "      <td>300.68</td>\n",
       "      <td>2024</td>\n",
       "      <td>5</td>\n",
       "    </tr>\n",
       "    <tr>\n",
       "      <th>2</th>\n",
       "      <td>T00166</td>\n",
       "      <td>C0127</td>\n",
       "      <td>P067</td>\n",
       "      <td>2024-04-25 07:38:55</td>\n",
       "      <td>1</td>\n",
       "      <td>300.68</td>\n",
       "      <td>300.68</td>\n",
       "      <td>2024</td>\n",
       "      <td>4</td>\n",
       "    </tr>\n",
       "    <tr>\n",
       "      <th>3</th>\n",
       "      <td>T00272</td>\n",
       "      <td>C0087</td>\n",
       "      <td>P067</td>\n",
       "      <td>2024-03-26 22:55:37</td>\n",
       "      <td>2</td>\n",
       "      <td>601.36</td>\n",
       "      <td>300.68</td>\n",
       "      <td>2024</td>\n",
       "      <td>3</td>\n",
       "    </tr>\n",
       "    <tr>\n",
       "      <th>4</th>\n",
       "      <td>T00363</td>\n",
       "      <td>C0070</td>\n",
       "      <td>P067</td>\n",
       "      <td>2024-03-21 15:10:10</td>\n",
       "      <td>3</td>\n",
       "      <td>902.04</td>\n",
       "      <td>300.68</td>\n",
       "      <td>2024</td>\n",
       "      <td>3</td>\n",
       "    </tr>\n",
       "  </tbody>\n",
       "</table>\n",
       "</div>"
      ],
      "text/plain": [
       "  TransactionID CustomerID ProductID     TransactionDate  Quantity  \\\n",
       "0        T00001      C0199      P067 2024-08-25 12:38:23         1   \n",
       "1        T00112      C0146      P067 2024-05-27 22:23:54         1   \n",
       "2        T00166      C0127      P067 2024-04-25 07:38:55         1   \n",
       "3        T00272      C0087      P067 2024-03-26 22:55:37         2   \n",
       "4        T00363      C0070      P067 2024-03-21 15:10:10         3   \n",
       "\n",
       "   TotalValue   Price  trans_year  trans_month  \n",
       "0      300.68  300.68        2024            8  \n",
       "1      300.68  300.68        2024            5  \n",
       "2      300.68  300.68        2024            4  \n",
       "3      601.36  300.68        2024            3  \n",
       "4      902.04  300.68        2024            3  "
      ]
     },
     "execution_count": 132,
     "metadata": {},
     "output_type": "execute_result"
    }
   ],
   "source": [
    "transactions.head()"
   ]
  },
  {
   "cell_type": "code",
   "execution_count": 133,
   "id": "c423524f",
   "metadata": {
    "scrolled": false
   },
   "outputs": [
    {
     "data": {
      "text/html": [
       "<div>\n",
       "<style scoped>\n",
       "    .dataframe tbody tr th:only-of-type {\n",
       "        vertical-align: middle;\n",
       "    }\n",
       "\n",
       "    .dataframe tbody tr th {\n",
       "        vertical-align: top;\n",
       "    }\n",
       "\n",
       "    .dataframe thead th {\n",
       "        text-align: right;\n",
       "    }\n",
       "</style>\n",
       "<table border=\"1\" class=\"dataframe\">\n",
       "  <thead>\n",
       "    <tr style=\"text-align: right;\">\n",
       "      <th></th>\n",
       "      <th>TransactionDate</th>\n",
       "      <th>Quantity</th>\n",
       "      <th>TotalValue</th>\n",
       "      <th>Price</th>\n",
       "      <th>trans_year</th>\n",
       "      <th>trans_month</th>\n",
       "    </tr>\n",
       "  </thead>\n",
       "  <tbody>\n",
       "    <tr>\n",
       "      <th>count</th>\n",
       "      <td>1000</td>\n",
       "      <td>1000.000000</td>\n",
       "      <td>1000.000000</td>\n",
       "      <td>1000.00000</td>\n",
       "      <td>1000.000000</td>\n",
       "      <td>1000.000000</td>\n",
       "    </tr>\n",
       "    <tr>\n",
       "      <th>mean</th>\n",
       "      <td>2024-06-23 15:33:02.768999936</td>\n",
       "      <td>2.537000</td>\n",
       "      <td>689.995560</td>\n",
       "      <td>272.55407</td>\n",
       "      <td>2023.996000</td>\n",
       "      <td>6.288000</td>\n",
       "    </tr>\n",
       "    <tr>\n",
       "      <th>min</th>\n",
       "      <td>2023-12-30 15:29:12</td>\n",
       "      <td>1.000000</td>\n",
       "      <td>16.080000</td>\n",
       "      <td>16.08000</td>\n",
       "      <td>2023.000000</td>\n",
       "      <td>1.000000</td>\n",
       "    </tr>\n",
       "    <tr>\n",
       "      <th>25%</th>\n",
       "      <td>2024-03-25 22:05:34.500000</td>\n",
       "      <td>2.000000</td>\n",
       "      <td>295.295000</td>\n",
       "      <td>147.95000</td>\n",
       "      <td>2024.000000</td>\n",
       "      <td>3.000000</td>\n",
       "    </tr>\n",
       "    <tr>\n",
       "      <th>50%</th>\n",
       "      <td>2024-06-26 17:21:52.500000</td>\n",
       "      <td>3.000000</td>\n",
       "      <td>588.880000</td>\n",
       "      <td>299.93000</td>\n",
       "      <td>2024.000000</td>\n",
       "      <td>6.000000</td>\n",
       "    </tr>\n",
       "    <tr>\n",
       "      <th>75%</th>\n",
       "      <td>2024-09-19 14:19:57</td>\n",
       "      <td>4.000000</td>\n",
       "      <td>1011.660000</td>\n",
       "      <td>404.40000</td>\n",
       "      <td>2024.000000</td>\n",
       "      <td>9.000000</td>\n",
       "    </tr>\n",
       "    <tr>\n",
       "      <th>max</th>\n",
       "      <td>2024-12-28 11:00:00</td>\n",
       "      <td>4.000000</td>\n",
       "      <td>1991.040000</td>\n",
       "      <td>497.76000</td>\n",
       "      <td>2024.000000</td>\n",
       "      <td>12.000000</td>\n",
       "    </tr>\n",
       "    <tr>\n",
       "      <th>std</th>\n",
       "      <td>NaN</td>\n",
       "      <td>1.117981</td>\n",
       "      <td>493.144478</td>\n",
       "      <td>140.73639</td>\n",
       "      <td>0.063151</td>\n",
       "      <td>3.437859</td>\n",
       "    </tr>\n",
       "  </tbody>\n",
       "</table>\n",
       "</div>"
      ],
      "text/plain": [
       "                     TransactionDate     Quantity   TotalValue       Price  \\\n",
       "count                           1000  1000.000000  1000.000000  1000.00000   \n",
       "mean   2024-06-23 15:33:02.768999936     2.537000   689.995560   272.55407   \n",
       "min              2023-12-30 15:29:12     1.000000    16.080000    16.08000   \n",
       "25%       2024-03-25 22:05:34.500000     2.000000   295.295000   147.95000   \n",
       "50%       2024-06-26 17:21:52.500000     3.000000   588.880000   299.93000   \n",
       "75%              2024-09-19 14:19:57     4.000000  1011.660000   404.40000   \n",
       "max              2024-12-28 11:00:00     4.000000  1991.040000   497.76000   \n",
       "std                              NaN     1.117981   493.144478   140.73639   \n",
       "\n",
       "        trans_year  trans_month  \n",
       "count  1000.000000  1000.000000  \n",
       "mean   2023.996000     6.288000  \n",
       "min    2023.000000     1.000000  \n",
       "25%    2024.000000     3.000000  \n",
       "50%    2024.000000     6.000000  \n",
       "75%    2024.000000     9.000000  \n",
       "max    2024.000000    12.000000  \n",
       "std       0.063151     3.437859  "
      ]
     },
     "execution_count": 133,
     "metadata": {},
     "output_type": "execute_result"
    }
   ],
   "source": [
    "transactions.describe()"
   ]
  },
  {
   "cell_type": "code",
   "execution_count": 134,
   "id": "5679bbb5",
   "metadata": {},
   "outputs": [],
   "source": [
    "def transaction_metrics(transactions):\n",
    "    print('Total Number of transactions: ', transactions['TransactionID'].nunique())\n",
    "    print('Total Number of Quantities sold: ', transactions['Quantity'].sum())\n",
    "    print('Total Revenue: ', transactions['TotalValue'].sum())"
   ]
  },
  {
   "cell_type": "code",
   "execution_count": 135,
   "id": "cb8609b1",
   "metadata": {},
   "outputs": [
    {
     "name": "stdout",
     "output_type": "stream",
     "text": [
      "Total Number of transactions:  1000\n",
      "Total Number of Quantities sold:  2537\n",
      "Total Revenue:  689995.56\n"
     ]
    }
   ],
   "source": [
    "transaction_metrics(transactions)"
   ]
  },
  {
   "cell_type": "code",
   "execution_count": 208,
   "id": "4692f4e1",
   "metadata": {},
   "outputs": [],
   "source": [
    "def transactions_summary(transactions):\n",
    "    \n",
    "    trans_month = transactions.groupby('trans_month')['TransactionID'].count()\n",
    "    ym = transactions['TransactionDate'].dt.to_period('M')\n",
    "    \n",
    "    plt.figure(figsize=(10,5))\n",
    "    plt.subplot(2,2,1)\n",
    "    plt.title('Number of Transactions by Year')\n",
    "    transactions.groupby('trans_year')['TransactionID'].count().plot(marker='o')\n",
    "    \n",
    "    plt.subplot(2,2,2)\n",
    "    plt.title('Number of Transactions by Month')\n",
    "    plt.plot(trans_month.index, trans_month.values , marker='o')\n",
    "    \n",
    "    for x, y in zip(trans_month.index, trans_month.values):\n",
    "        plt.text(x, y, f'{y}', ha='center', va='bottom')\n",
    "        \n",
    "    plt.subplot(2,2,3)\n",
    "    plt.title('Number of Transactions: Year-Month wise')\n",
    "    transactions.groupby(ym)['TransactionID'].count().plot(kind='line', marker='o')\n",
    "    \n",
    "    \n",
    "    plt.tight_layout()\n",
    "    plt.show()"
   ]
  },
  {
   "cell_type": "code",
   "execution_count": 209,
   "id": "cf2b08c0",
   "metadata": {
    "scrolled": false
   },
   "outputs": [
    {
     "data": {
      "image/png": "[encoded data removed]",
      "text/plain": [
       "<Figure size 1000x500 with 3 Axes>"
      ]
     },
     "metadata": {},
     "output_type": "display_data"
    }
   ],
   "source": [
    "transactions_summary(transactions)"
   ]
  },
  {
   "cell_type": "code",
   "execution_count": 163,
   "id": "0786c592",
   "metadata": {
    "scrolled": true
   },
   "outputs": [
    {
     "name": "stdout",
     "output_type": "stream",
     "text": [
      "  TransactionID CustomerID ProductID     TransactionDate  Quantity  \\\n",
      "0        T00015      C0001      P054 2024-01-19 03:12:55       2.0   \n",
      "1        T00932      C0001      P022 2024-09-17 09:01:18       3.0   \n",
      "2        T00085      C0001      P096 2024-04-08 00:01:00       2.0   \n",
      "3        T00445      C0001      P083 2024-05-07 03:11:44       2.0   \n",
      "4        T00436      C0001      P029 2024-11-02 17:04:16       3.0   \n",
      "\n",
      "   TotalValue   Price  trans_year  trans_month      CustomerName  \\\n",
      "0      114.60   57.30      2024.0          1.0  Lawrence Carroll   \n",
      "1      412.62  137.54      2024.0          9.0  Lawrence Carroll   \n",
      "2      614.94  307.47      2024.0          4.0  Lawrence Carroll   \n",
      "3      911.44  455.72      2024.0          5.0  Lawrence Carroll   \n",
      "4     1300.92  433.64      2024.0         11.0  Lawrence Carroll   \n",
      "\n",
      "          Region SignupDate  signup_year  signup_month  \n",
      "0  South America 2022-07-10         2022             7  \n",
      "1  South America 2022-07-10         2022             7  \n",
      "2  South America 2022-07-10         2022             7  \n",
      "3  South America 2022-07-10         2022             7  \n",
      "4  South America 2022-07-10         2022             7  \n"
     ]
    }
   ],
   "source": [
    "#print(customers.head(3))\n",
    "#print()\n",
    "#print(transactions.head(3))\n",
    "\n",
    "cust_details = transactions.merge(customers, how='right', on='CustomerID')\n",
    "print(cust_details.head())"
   ]
  },
  {
   "cell_type": "code",
   "execution_count": 164,
   "id": "0aacc625",
   "metadata": {},
   "outputs": [
    {
     "name": "stdout",
     "output_type": "stream",
     "text": [
      "Details of top 10 Customers with Most Transactions: \n"
     ]
    },
    {
     "data": {
      "text/html": [
       "<div>\n",
       "<style scoped>\n",
       "    .dataframe tbody tr th:only-of-type {\n",
       "        vertical-align: middle;\n",
       "    }\n",
       "\n",
       "    .dataframe tbody tr th {\n",
       "        vertical-align: top;\n",
       "    }\n",
       "\n",
       "    .dataframe thead th {\n",
       "        text-align: right;\n",
       "    }\n",
       "</style>\n",
       "<table border=\"1\" class=\"dataframe\">\n",
       "  <thead>\n",
       "    <tr style=\"text-align: right;\">\n",
       "      <th></th>\n",
       "      <th>CustomerName</th>\n",
       "      <th>TransactionID</th>\n",
       "      <th>CustomerID</th>\n",
       "      <th>Region</th>\n",
       "      <th>SignupDate</th>\n",
       "      <th>signup_year</th>\n",
       "      <th>signup_month</th>\n",
       "    </tr>\n",
       "  </thead>\n",
       "  <tbody>\n",
       "    <tr>\n",
       "      <th>0</th>\n",
       "      <td>Abigail Jones</td>\n",
       "      <td>11</td>\n",
       "      <td>C0109</td>\n",
       "      <td>North America</td>\n",
       "      <td>2022-05-09</td>\n",
       "      <td>2022</td>\n",
       "      <td>5</td>\n",
       "    </tr>\n",
       "    <tr>\n",
       "      <th>1</th>\n",
       "      <td>William Adams</td>\n",
       "      <td>11</td>\n",
       "      <td>C0156</td>\n",
       "      <td>North America</td>\n",
       "      <td>2023-08-19</td>\n",
       "      <td>2023</td>\n",
       "      <td>8</td>\n",
       "    </tr>\n",
       "    <tr>\n",
       "      <th>2</th>\n",
       "      <td>David Li</td>\n",
       "      <td>10</td>\n",
       "      <td>C0008</td>\n",
       "      <td>North America</td>\n",
       "      <td>2024-01-13</td>\n",
       "      <td>2024</td>\n",
       "      <td>1</td>\n",
       "    </tr>\n",
       "    <tr>\n",
       "      <th>3</th>\n",
       "      <td>Gerald Hines</td>\n",
       "      <td>10</td>\n",
       "      <td>C0065</td>\n",
       "      <td>North America</td>\n",
       "      <td>2024-07-10</td>\n",
       "      <td>2024</td>\n",
       "      <td>7</td>\n",
       "    </tr>\n",
       "    <tr>\n",
       "      <th>4</th>\n",
       "      <td>Paul Parsons</td>\n",
       "      <td>10</td>\n",
       "      <td>C0141</td>\n",
       "      <td>Europe</td>\n",
       "      <td>2023-02-23</td>\n",
       "      <td>2023</td>\n",
       "      <td>2</td>\n",
       "    </tr>\n",
       "    <tr>\n",
       "      <th>5</th>\n",
       "      <td>Matthew Johnson</td>\n",
       "      <td>10</td>\n",
       "      <td>C0175</td>\n",
       "      <td>Asia</td>\n",
       "      <td>2022-04-16</td>\n",
       "      <td>2022</td>\n",
       "      <td>4</td>\n",
       "    </tr>\n",
       "    <tr>\n",
       "      <th>6</th>\n",
       "      <td>Juan Mcdaniel</td>\n",
       "      <td>9</td>\n",
       "      <td>C0165</td>\n",
       "      <td>South America</td>\n",
       "      <td>2022-04-09</td>\n",
       "      <td>2022</td>\n",
       "      <td>4</td>\n",
       "    </tr>\n",
       "    <tr>\n",
       "      <th>7</th>\n",
       "      <td>Misty Higgins</td>\n",
       "      <td>9</td>\n",
       "      <td>C0075</td>\n",
       "      <td>Europe</td>\n",
       "      <td>2023-05-01</td>\n",
       "      <td>2023</td>\n",
       "      <td>5</td>\n",
       "    </tr>\n",
       "    <tr>\n",
       "      <th>8</th>\n",
       "      <td>Belinda Garner</td>\n",
       "      <td>9</td>\n",
       "      <td>C0084</td>\n",
       "      <td>Asia</td>\n",
       "      <td>2024-09-17</td>\n",
       "      <td>2024</td>\n",
       "      <td>9</td>\n",
       "    </tr>\n",
       "    <tr>\n",
       "      <th>9</th>\n",
       "      <td>Nancy Walker</td>\n",
       "      <td>9</td>\n",
       "      <td>C0093</td>\n",
       "      <td>Asia</td>\n",
       "      <td>2024-07-13</td>\n",
       "      <td>2024</td>\n",
       "      <td>7</td>\n",
       "    </tr>\n",
       "  </tbody>\n",
       "</table>\n",
       "</div>"
      ],
      "text/plain": [
       "      CustomerName  TransactionID CustomerID         Region SignupDate  \\\n",
       "0    Abigail Jones             11      C0109  North America 2022-05-09   \n",
       "1    William Adams             11      C0156  North America 2023-08-19   \n",
       "2         David Li             10      C0008  North America 2024-01-13   \n",
       "3     Gerald Hines             10      C0065  North America 2024-07-10   \n",
       "4     Paul Parsons             10      C0141         Europe 2023-02-23   \n",
       "5  Matthew Johnson             10      C0175           Asia 2022-04-16   \n",
       "6    Juan Mcdaniel              9      C0165  South America 2022-04-09   \n",
       "7    Misty Higgins              9      C0075         Europe 2023-05-01   \n",
       "8   Belinda Garner              9      C0084           Asia 2024-09-17   \n",
       "9     Nancy Walker              9      C0093           Asia 2024-07-13   \n",
       "\n",
       "   signup_year  signup_month  \n",
       "0         2022             5  \n",
       "1         2023             8  \n",
       "2         2024             1  \n",
       "3         2024             7  \n",
       "4         2023             2  \n",
       "5         2022             4  \n",
       "6         2022             4  \n",
       "7         2023             5  \n",
       "8         2024             9  \n",
       "9         2024             7  "
      ]
     },
     "execution_count": 164,
     "metadata": {},
     "output_type": "execute_result"
    }
   ],
   "source": [
    "## Customers with most transactions\n",
    "\n",
    "print('Details of top 10 Customers with Most Transactions: ')\n",
    "res = cust_details.groupby('CustomerName')[['TransactionID']].count().sort_values(by='TransactionID', ascending=False).head(10)\n",
    "\n",
    "res.merge(customers, how='inner', on='CustomerName')"
   ]
  },
  {
   "cell_type": "code",
   "execution_count": 165,
   "id": "191ea2c9",
   "metadata": {},
   "outputs": [
    {
     "data": {
      "text/html": [
       "<div>\n",
       "<style scoped>\n",
       "    .dataframe tbody tr th:only-of-type {\n",
       "        vertical-align: middle;\n",
       "    }\n",
       "\n",
       "    .dataframe tbody tr th {\n",
       "        vertical-align: top;\n",
       "    }\n",
       "\n",
       "    .dataframe thead th {\n",
       "        text-align: right;\n",
       "    }\n",
       "</style>\n",
       "<table border=\"1\" class=\"dataframe\">\n",
       "  <thead>\n",
       "    <tr style=\"text-align: right;\">\n",
       "      <th></th>\n",
       "      <th>TransactionID</th>\n",
       "      <th>CustomerID</th>\n",
       "      <th>ProductID</th>\n",
       "      <th>TransactionDate</th>\n",
       "      <th>Quantity</th>\n",
       "      <th>TotalValue</th>\n",
       "      <th>Price</th>\n",
       "      <th>trans_year</th>\n",
       "      <th>trans_month</th>\n",
       "      <th>CustomerName</th>\n",
       "      <th>Region</th>\n",
       "      <th>SignupDate</th>\n",
       "      <th>signup_year</th>\n",
       "      <th>signup_month</th>\n",
       "    </tr>\n",
       "  </thead>\n",
       "  <tbody>\n",
       "    <tr>\n",
       "      <th>904</th>\n",
       "      <td>NaN</td>\n",
       "      <td>C0180</td>\n",
       "      <td>NaN</td>\n",
       "      <td>NaT</td>\n",
       "      <td>NaN</td>\n",
       "      <td>NaN</td>\n",
       "      <td>NaN</td>\n",
       "      <td>NaN</td>\n",
       "      <td>NaN</td>\n",
       "      <td>Amy Carpenter</td>\n",
       "      <td>Asia</td>\n",
       "      <td>2023-10-25</td>\n",
       "      <td>2023</td>\n",
       "      <td>10</td>\n",
       "    </tr>\n",
       "  </tbody>\n",
       "</table>\n",
       "</div>"
      ],
      "text/plain": [
       "    TransactionID CustomerID ProductID TransactionDate  Quantity  TotalValue  \\\n",
       "904           NaN      C0180       NaN             NaT       NaN         NaN   \n",
       "\n",
       "     Price  trans_year  trans_month   CustomerName Region SignupDate  \\\n",
       "904    NaN         NaN          NaN  Amy Carpenter   Asia 2023-10-25   \n",
       "\n",
       "     signup_year  signup_month  \n",
       "904         2023            10  "
      ]
     },
     "execution_count": 165,
     "metadata": {},
     "output_type": "execute_result"
    }
   ],
   "source": [
    "# Customers with no transactions\n",
    "\n",
    "cust_details[cust_details.TransactionID.isna()]"
   ]
  },
  {
   "cell_type": "code",
   "execution_count": 166,
   "id": "09b2e157",
   "metadata": {},
   "outputs": [
    {
     "name": "stdout",
     "output_type": "stream",
     "text": [
      "Top 10 High Value Customers: \n"
     ]
    },
    {
     "data": {
      "text/html": [
       "<div>\n",
       "<style scoped>\n",
       "    .dataframe tbody tr th:only-of-type {\n",
       "        vertical-align: middle;\n",
       "    }\n",
       "\n",
       "    .dataframe tbody tr th {\n",
       "        vertical-align: top;\n",
       "    }\n",
       "\n",
       "    .dataframe thead th {\n",
       "        text-align: right;\n",
       "    }\n",
       "</style>\n",
       "<table border=\"1\" class=\"dataframe\">\n",
       "  <thead>\n",
       "    <tr style=\"text-align: right;\">\n",
       "      <th></th>\n",
       "      <th>CustomerName</th>\n",
       "      <th>TotalValue</th>\n",
       "      <th>CustomerID</th>\n",
       "      <th>Region</th>\n",
       "      <th>SignupDate</th>\n",
       "      <th>signup_year</th>\n",
       "      <th>signup_month</th>\n",
       "    </tr>\n",
       "  </thead>\n",
       "  <tbody>\n",
       "    <tr>\n",
       "      <th>0</th>\n",
       "      <td>Paul Parsons</td>\n",
       "      <td>10673.87</td>\n",
       "      <td>C0141</td>\n",
       "      <td>Europe</td>\n",
       "      <td>2023-02-23</td>\n",
       "      <td>2023</td>\n",
       "      <td>2</td>\n",
       "    </tr>\n",
       "    <tr>\n",
       "      <th>1</th>\n",
       "      <td>Bruce Rhodes</td>\n",
       "      <td>8040.39</td>\n",
       "      <td>C0054</td>\n",
       "      <td>Asia</td>\n",
       "      <td>2024-09-29</td>\n",
       "      <td>2024</td>\n",
       "      <td>9</td>\n",
       "    </tr>\n",
       "    <tr>\n",
       "      <th>2</th>\n",
       "      <td>Gerald Hines</td>\n",
       "      <td>7663.70</td>\n",
       "      <td>C0065</td>\n",
       "      <td>North America</td>\n",
       "      <td>2024-07-10</td>\n",
       "      <td>2024</td>\n",
       "      <td>7</td>\n",
       "    </tr>\n",
       "    <tr>\n",
       "      <th>3</th>\n",
       "      <td>William Adams</td>\n",
       "      <td>7634.45</td>\n",
       "      <td>C0156</td>\n",
       "      <td>North America</td>\n",
       "      <td>2023-08-19</td>\n",
       "      <td>2023</td>\n",
       "      <td>8</td>\n",
       "    </tr>\n",
       "    <tr>\n",
       "      <th>4</th>\n",
       "      <td>Aimee Taylor</td>\n",
       "      <td>7572.91</td>\n",
       "      <td>C0082</td>\n",
       "      <td>South America</td>\n",
       "      <td>2022-05-13</td>\n",
       "      <td>2022</td>\n",
       "      <td>5</td>\n",
       "    </tr>\n",
       "    <tr>\n",
       "      <th>5</th>\n",
       "      <td>Anna Ball</td>\n",
       "      <td>7111.32</td>\n",
       "      <td>C0188</td>\n",
       "      <td>South America</td>\n",
       "      <td>2022-05-17</td>\n",
       "      <td>2022</td>\n",
       "      <td>5</td>\n",
       "    </tr>\n",
       "    <tr>\n",
       "      <th>6</th>\n",
       "      <td>Mrs. Kimberly Wright</td>\n",
       "      <td>7073.28</td>\n",
       "      <td>C0059</td>\n",
       "      <td>North America</td>\n",
       "      <td>2024-04-07</td>\n",
       "      <td>2024</td>\n",
       "      <td>4</td>\n",
       "    </tr>\n",
       "    <tr>\n",
       "      <th>7</th>\n",
       "      <td>Jennifer Pena</td>\n",
       "      <td>6819.57</td>\n",
       "      <td>C0028</td>\n",
       "      <td>Asia</td>\n",
       "      <td>2024-06-29</td>\n",
       "      <td>2024</td>\n",
       "      <td>6</td>\n",
       "    </tr>\n",
       "    <tr>\n",
       "      <th>8</th>\n",
       "      <td>Rodney Eaton</td>\n",
       "      <td>6715.72</td>\n",
       "      <td>C0099</td>\n",
       "      <td>South America</td>\n",
       "      <td>2023-01-29</td>\n",
       "      <td>2023</td>\n",
       "      <td>1</td>\n",
       "    </tr>\n",
       "    <tr>\n",
       "      <th>9</th>\n",
       "      <td>Juan Mcdaniel</td>\n",
       "      <td>6708.10</td>\n",
       "      <td>C0165</td>\n",
       "      <td>South America</td>\n",
       "      <td>2022-04-09</td>\n",
       "      <td>2022</td>\n",
       "      <td>4</td>\n",
       "    </tr>\n",
       "  </tbody>\n",
       "</table>\n",
       "</div>"
      ],
      "text/plain": [
       "           CustomerName  TotalValue CustomerID         Region SignupDate  \\\n",
       "0          Paul Parsons    10673.87      C0141         Europe 2023-02-23   \n",
       "1          Bruce Rhodes     8040.39      C0054           Asia 2024-09-29   \n",
       "2          Gerald Hines     7663.70      C0065  North America 2024-07-10   \n",
       "3         William Adams     7634.45      C0156  North America 2023-08-19   \n",
       "4          Aimee Taylor     7572.91      C0082  South America 2022-05-13   \n",
       "5             Anna Ball     7111.32      C0188  South America 2022-05-17   \n",
       "6  Mrs. Kimberly Wright     7073.28      C0059  North America 2024-04-07   \n",
       "7         Jennifer Pena     6819.57      C0028           Asia 2024-06-29   \n",
       "8          Rodney Eaton     6715.72      C0099  South America 2023-01-29   \n",
       "9         Juan Mcdaniel     6708.10      C0165  South America 2022-04-09   \n",
       "\n",
       "   signup_year  signup_month  \n",
       "0         2023             2  \n",
       "1         2024             9  \n",
       "2         2024             7  \n",
       "3         2023             8  \n",
       "4         2022             5  \n",
       "5         2022             5  \n",
       "6         2024             4  \n",
       "7         2024             6  \n",
       "8         2023             1  \n",
       "9         2022             4  "
      ]
     },
     "execution_count": 166,
     "metadata": {},
     "output_type": "execute_result"
    }
   ],
   "source": [
    "print('Top 10 High Value Customers: ')\n",
    "det = cust_details.groupby('CustomerName')[['TotalValue']].sum().sort_values(by='TotalValue', ascending=False).head(10)\n",
    "\n",
    "det.merge(customers, on='CustomerName', how='inner')"
   ]
  },
  {
   "cell_type": "code",
   "execution_count": 167,
   "id": "63f85c44",
   "metadata": {},
   "outputs": [
    {
     "name": "stdout",
     "output_type": "stream",
     "text": [
      "Customers with Maximum Transactions and High Value: \n"
     ]
    },
    {
     "data": {
      "text/html": [
       "<div>\n",
       "<style scoped>\n",
       "    .dataframe tbody tr th:only-of-type {\n",
       "        vertical-align: middle;\n",
       "    }\n",
       "\n",
       "    .dataframe tbody tr th {\n",
       "        vertical-align: top;\n",
       "    }\n",
       "\n",
       "    .dataframe thead th {\n",
       "        text-align: right;\n",
       "    }\n",
       "</style>\n",
       "<table border=\"1\" class=\"dataframe\">\n",
       "  <thead>\n",
       "    <tr style=\"text-align: right;\">\n",
       "      <th></th>\n",
       "      <th>CustomerName</th>\n",
       "      <th>TransactionID</th>\n",
       "      <th>TotalValue</th>\n",
       "      <th>CustomerID</th>\n",
       "      <th>Region</th>\n",
       "      <th>SignupDate</th>\n",
       "      <th>signup_year</th>\n",
       "      <th>signup_month</th>\n",
       "    </tr>\n",
       "  </thead>\n",
       "  <tbody>\n",
       "    <tr>\n",
       "      <th>0</th>\n",
       "      <td>William Adams</td>\n",
       "      <td>11</td>\n",
       "      <td>7634.45</td>\n",
       "      <td>C0156</td>\n",
       "      <td>North America</td>\n",
       "      <td>2023-08-19</td>\n",
       "      <td>2023</td>\n",
       "      <td>8</td>\n",
       "    </tr>\n",
       "    <tr>\n",
       "      <th>1</th>\n",
       "      <td>Gerald Hines</td>\n",
       "      <td>10</td>\n",
       "      <td>7663.70</td>\n",
       "      <td>C0065</td>\n",
       "      <td>North America</td>\n",
       "      <td>2024-07-10</td>\n",
       "      <td>2024</td>\n",
       "      <td>7</td>\n",
       "    </tr>\n",
       "    <tr>\n",
       "      <th>2</th>\n",
       "      <td>Paul Parsons</td>\n",
       "      <td>10</td>\n",
       "      <td>10673.87</td>\n",
       "      <td>C0141</td>\n",
       "      <td>Europe</td>\n",
       "      <td>2023-02-23</td>\n",
       "      <td>2023</td>\n",
       "      <td>2</td>\n",
       "    </tr>\n",
       "    <tr>\n",
       "      <th>3</th>\n",
       "      <td>Juan Mcdaniel</td>\n",
       "      <td>9</td>\n",
       "      <td>6708.10</td>\n",
       "      <td>C0165</td>\n",
       "      <td>South America</td>\n",
       "      <td>2022-04-09</td>\n",
       "      <td>2022</td>\n",
       "      <td>4</td>\n",
       "    </tr>\n",
       "  </tbody>\n",
       "</table>\n",
       "</div>"
      ],
      "text/plain": [
       "    CustomerName  TransactionID  TotalValue CustomerID         Region  \\\n",
       "0  William Adams             11     7634.45      C0156  North America   \n",
       "1   Gerald Hines             10     7663.70      C0065  North America   \n",
       "2   Paul Parsons             10    10673.87      C0141         Europe   \n",
       "3  Juan Mcdaniel              9     6708.10      C0165  South America   \n",
       "\n",
       "  SignupDate  signup_year  signup_month  \n",
       "0 2023-08-19         2023             8  \n",
       "1 2024-07-10         2024             7  \n",
       "2 2023-02-23         2023             2  \n",
       "3 2022-04-09         2022             4  "
      ]
     },
     "execution_count": 167,
     "metadata": {},
     "output_type": "execute_result"
    }
   ],
   "source": [
    "print('Customers with Maximum Transactions and High Value: ')\n",
    "res.merge(det, on='CustomerName', how='inner').merge(customers, on='CustomerName', how='inner')"
   ]
  },
  {
   "cell_type": "code",
   "execution_count": 168,
   "id": "712b88e5",
   "metadata": {},
   "outputs": [
    {
     "name": "stdout",
     "output_type": "stream",
     "text": [
      "Region wise Transaction Count: \n"
     ]
    },
    {
     "data": {
      "text/html": [
       "<div>\n",
       "<style scoped>\n",
       "    .dataframe tbody tr th:only-of-type {\n",
       "        vertical-align: middle;\n",
       "    }\n",
       "\n",
       "    .dataframe tbody tr th {\n",
       "        vertical-align: top;\n",
       "    }\n",
       "\n",
       "    .dataframe thead th {\n",
       "        text-align: right;\n",
       "    }\n",
       "</style>\n",
       "<table border=\"1\" class=\"dataframe\">\n",
       "  <thead>\n",
       "    <tr style=\"text-align: right;\">\n",
       "      <th></th>\n",
       "      <th>TransactionID</th>\n",
       "    </tr>\n",
       "    <tr>\n",
       "      <th>Region</th>\n",
       "      <th></th>\n",
       "    </tr>\n",
       "  </thead>\n",
       "  <tbody>\n",
       "    <tr>\n",
       "      <th>South America</th>\n",
       "      <td>304</td>\n",
       "    </tr>\n",
       "    <tr>\n",
       "      <th>North America</th>\n",
       "      <td>244</td>\n",
       "    </tr>\n",
       "    <tr>\n",
       "      <th>Europe</th>\n",
       "      <td>234</td>\n",
       "    </tr>\n",
       "    <tr>\n",
       "      <th>Asia</th>\n",
       "      <td>218</td>\n",
       "    </tr>\n",
       "  </tbody>\n",
       "</table>\n",
       "</div>"
      ],
      "text/plain": [
       "               TransactionID\n",
       "Region                      \n",
       "South America            304\n",
       "North America            244\n",
       "Europe                   234\n",
       "Asia                     218"
      ]
     },
     "execution_count": 168,
     "metadata": {},
     "output_type": "execute_result"
    }
   ],
   "source": [
    "print('Region wise Transaction Count: ')\n",
    "cust_details.groupby('Region')[['TransactionID']].count().sort_values(by='TransactionID', ascending=False)"
   ]
  },
  {
   "cell_type": "code",
   "execution_count": 169,
   "id": "87c93327",
   "metadata": {},
   "outputs": [
    {
     "name": "stdout",
     "output_type": "stream",
     "text": [
      "Transcation Value by Region : \n"
     ]
    },
    {
     "data": {
      "text/html": [
       "<div>\n",
       "<style scoped>\n",
       "    .dataframe tbody tr th:only-of-type {\n",
       "        vertical-align: middle;\n",
       "    }\n",
       "\n",
       "    .dataframe tbody tr th {\n",
       "        vertical-align: top;\n",
       "    }\n",
       "\n",
       "    .dataframe thead th {\n",
       "        text-align: right;\n",
       "    }\n",
       "</style>\n",
       "<table border=\"1\" class=\"dataframe\">\n",
       "  <thead>\n",
       "    <tr style=\"text-align: right;\">\n",
       "      <th></th>\n",
       "      <th>TotalValue</th>\n",
       "    </tr>\n",
       "    <tr>\n",
       "      <th>Region</th>\n",
       "      <th></th>\n",
       "    </tr>\n",
       "  </thead>\n",
       "  <tbody>\n",
       "    <tr>\n",
       "      <th>South America</th>\n",
       "      <td>219352.56</td>\n",
       "    </tr>\n",
       "    <tr>\n",
       "      <th>Europe</th>\n",
       "      <td>166254.63</td>\n",
       "    </tr>\n",
       "    <tr>\n",
       "      <th>North America</th>\n",
       "      <td>152313.40</td>\n",
       "    </tr>\n",
       "    <tr>\n",
       "      <th>Asia</th>\n",
       "      <td>152074.97</td>\n",
       "    </tr>\n",
       "  </tbody>\n",
       "</table>\n",
       "</div>"
      ],
      "text/plain": [
       "               TotalValue\n",
       "Region                   \n",
       "South America   219352.56\n",
       "Europe          166254.63\n",
       "North America   152313.40\n",
       "Asia            152074.97"
      ]
     },
     "execution_count": 169,
     "metadata": {},
     "output_type": "execute_result"
    }
   ],
   "source": [
    "print('Transcation Value by Region : ')\n",
    "cust_details.groupby('Region')[['TotalValue']].sum().sort_values(by='TotalValue', ascending=False)"
   ]
  },
  {
   "cell_type": "code",
   "execution_count": 170,
   "id": "bedc6576",
   "metadata": {},
   "outputs": [
    {
     "name": "stdout",
     "output_type": "stream",
     "text": [
      "  ProductID           ProductName Category  Price_x TransactionID CustomerID  \\\n",
      "0      P001  ActiveWear Biography    Books    169.3        T00088      C0019   \n",
      "1      P001  ActiveWear Biography    Books    169.3        T00314      C0024   \n",
      "2      P001  ActiveWear Biography    Books    169.3        T00428      C0071   \n",
      "\n",
      "      TransactionDate  Quantity  TotalValue  Price_y  trans_year  trans_month  \n",
      "0 2024-01-30 17:23:03         2       338.6    169.3        2024            1  \n",
      "1 2024-09-24 17:15:16         4       677.2    169.3        2024            9  \n",
      "2 2024-08-02 08:13:23         2       338.6    169.3        2024            8  \n"
     ]
    }
   ],
   "source": [
    "prdt_details = products.merge(transactions, on='ProductID', how='left')\n",
    "print(prdt_details.head(3))"
   ]
  },
  {
   "cell_type": "code",
   "execution_count": 171,
   "id": "67ccfdc7",
   "metadata": {},
   "outputs": [
    {
     "name": "stdout",
     "output_type": "stream",
     "text": [
      "Product Category and Number of Transactions: \n"
     ]
    },
    {
     "data": {
      "text/html": [
       "<div>\n",
       "<style scoped>\n",
       "    .dataframe tbody tr th:only-of-type {\n",
       "        vertical-align: middle;\n",
       "    }\n",
       "\n",
       "    .dataframe tbody tr th {\n",
       "        vertical-align: top;\n",
       "    }\n",
       "\n",
       "    .dataframe thead th {\n",
       "        text-align: right;\n",
       "    }\n",
       "</style>\n",
       "<table border=\"1\" class=\"dataframe\">\n",
       "  <thead>\n",
       "    <tr style=\"text-align: right;\">\n",
       "      <th></th>\n",
       "      <th>TransactionID</th>\n",
       "    </tr>\n",
       "    <tr>\n",
       "      <th>Category</th>\n",
       "      <th></th>\n",
       "    </tr>\n",
       "  </thead>\n",
       "  <tbody>\n",
       "    <tr>\n",
       "      <th>Books</th>\n",
       "      <td>270</td>\n",
       "    </tr>\n",
       "    <tr>\n",
       "      <th>Electronics</th>\n",
       "      <td>254</td>\n",
       "    </tr>\n",
       "    <tr>\n",
       "      <th>Home Decor</th>\n",
       "      <td>248</td>\n",
       "    </tr>\n",
       "    <tr>\n",
       "      <th>Clothing</th>\n",
       "      <td>228</td>\n",
       "    </tr>\n",
       "  </tbody>\n",
       "</table>\n",
       "</div>"
      ],
      "text/plain": [
       "             TransactionID\n",
       "Category                  \n",
       "Books                  270\n",
       "Electronics            254\n",
       "Home Decor             248\n",
       "Clothing               228"
      ]
     },
     "execution_count": 171,
     "metadata": {},
     "output_type": "execute_result"
    }
   ],
   "source": [
    "print('Product Category and Number of Transactions: ')\n",
    "prdt_details.groupby('Category')[['TransactionID']].count().sort_values(by='TransactionID', ascending=False)"
   ]
  },
  {
   "cell_type": "code",
   "execution_count": 173,
   "id": "c578967f",
   "metadata": {},
   "outputs": [
    {
     "name": "stdout",
     "output_type": "stream",
     "text": [
      "Product Category and TotalValue: \n"
     ]
    },
    {
     "data": {
      "text/html": [
       "<div>\n",
       "<style scoped>\n",
       "    .dataframe tbody tr th:only-of-type {\n",
       "        vertical-align: middle;\n",
       "    }\n",
       "\n",
       "    .dataframe tbody tr th {\n",
       "        vertical-align: top;\n",
       "    }\n",
       "\n",
       "    .dataframe thead th {\n",
       "        text-align: right;\n",
       "    }\n",
       "</style>\n",
       "<table border=\"1\" class=\"dataframe\">\n",
       "  <thead>\n",
       "    <tr style=\"text-align: right;\">\n",
       "      <th></th>\n",
       "      <th>TotalValue</th>\n",
       "    </tr>\n",
       "    <tr>\n",
       "      <th>Category</th>\n",
       "      <th></th>\n",
       "    </tr>\n",
       "  </thead>\n",
       "  <tbody>\n",
       "    <tr>\n",
       "      <th>Books</th>\n",
       "      <td>192147.47</td>\n",
       "    </tr>\n",
       "    <tr>\n",
       "      <th>Electronics</th>\n",
       "      <td>180783.50</td>\n",
       "    </tr>\n",
       "    <tr>\n",
       "      <th>Clothing</th>\n",
       "      <td>166170.66</td>\n",
       "    </tr>\n",
       "    <tr>\n",
       "      <th>Home Decor</th>\n",
       "      <td>150893.93</td>\n",
       "    </tr>\n",
       "  </tbody>\n",
       "</table>\n",
       "</div>"
      ],
      "text/plain": [
       "             TotalValue\n",
       "Category               \n",
       "Books         192147.47\n",
       "Electronics   180783.50\n",
       "Clothing      166170.66\n",
       "Home Decor    150893.93"
      ]
     },
     "execution_count": 173,
     "metadata": {},
     "output_type": "execute_result"
    }
   ],
   "source": [
    "print('Product Category and TotalValue: ')\n",
    "prdt_details.groupby('Category')[['TotalValue']].sum().sort_values(by='TotalValue', ascending=False)"
   ]
  },
  {
   "cell_type": "markdown",
   "id": "b5b2e2f0",
   "metadata": {},
   "source": [
    "### Inferences\n",
    "* A total of 1000 transactions were recorded from 2023 to 2024.\n",
    "* Total quantities sold = 2537\n",
    "* Total revenue = 689995.56 units of currency\n",
    "* Maximum transactions were observed in January and July to September.\n",
    "* CustomerID: C0180, Amy Carpenter from Asia has made no trasactions since signup on Oct 2023.\n",
    "* William Adams (C0156), Gerald Hines(C0065) from North America and Paul Parsons (C0141) from Europe and Juan Mcdaniel(C0165) from South America are the customers with most transactions and also transactions of high totalvalue.\t\n",
    "* South America tops in most transactions and high totalvalue transactions.\n",
    "* Asia is the lowest in the number of transactions and totalvalue.\n",
    "* Most number of transactions are for Books and least number of transactions are for Clothes.\n",
    "* Similary, transactions on Books tops totalvalue."
   ]
  },
  {
   "cell_type": "code",
   "execution_count": null,
   "id": "b48f5f47",
   "metadata": {},
   "outputs": [],
   "source": []
  },
  {
   "cell_type": "code",
   "execution_count": null,
   "id": "7eaab2d2",
   "metadata": {},
   "outputs": [],
   "source": []
  }
 ],
 "metadata": {
  "kernelspec": {
   "display_name": "Python 3 (ipykernel)",
   "language": "python",
   "name": "python3"
  },
  "language_info": {
   "codemirror_mode": {
    "name": "ipython",
    "version": 3
   },
   "file_extension": ".py",
   "mimetype": "text/x-python",
   "name": "python",
   "nbconvert_exporter": "python",
   "pygments_lexer": "ipython3",
   "version": "3.11.5"
  }
 },
 "nbformat": 4,
 "nbformat_minor": 5
}
