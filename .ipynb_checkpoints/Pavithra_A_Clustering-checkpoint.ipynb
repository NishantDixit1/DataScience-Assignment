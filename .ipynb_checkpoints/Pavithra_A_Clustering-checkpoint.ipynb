{
 "cells": [
  {
   "cell_type": "markdown",
   "id": "ef9e3567",
   "metadata": {},
   "source": [
    "# Importing the Necessary Libraries"
   ]
  },
  {
   "cell_type": "code",
   "execution_count": 1,
   "id": "4df022e8",
   "metadata": {},
   "outputs": [],
   "source": [
    "import numpy as np\n",
    "import pandas as pd\n",
    "import matplotlib.pyplot as plt\n",
    "import seaborn as sns\n",
    "import warnings\n",
    "warnings.filterwarnings('ignore')"
   ]
  },
  {
   "cell_type": "markdown",
   "id": "3722e6e7",
   "metadata": {},
   "source": [
    "# Loading the Data"
   ]
  },
  {
   "cell_type": "code",
   "execution_count": 2,
   "id": "08335f4f",
   "metadata": {},
   "outputs": [],
   "source": [
    "customers = pd.read_csv('Customers.csv')\n",
    "transactions = pd.read_csv('Transactions.csv')"
   ]
  },
  {
   "cell_type": "markdown",
   "id": "30bda199",
   "metadata": {},
   "source": [
    "# Data Wrangling"
   ]
  },
  {
   "cell_type": "code",
   "execution_count": 3,
   "id": "22597025",
   "metadata": {},
   "outputs": [
    {
     "data": {
      "text/html": [
       "<div>\n",
       "<style scoped>\n",
       "    .dataframe tbody tr th:only-of-type {\n",
       "        vertical-align: middle;\n",
       "    }\n",
       "\n",
       "    .dataframe tbody tr th {\n",
       "        vertical-align: top;\n",
       "    }\n",
       "\n",
       "    .dataframe thead th {\n",
       "        text-align: right;\n",
       "    }\n",
       "</style>\n",
       "<table border=\"1\" class=\"dataframe\">\n",
       "  <thead>\n",
       "    <tr style=\"text-align: right;\">\n",
       "      <th></th>\n",
       "      <th>CustomerID</th>\n",
       "      <th>CustomerName</th>\n",
       "      <th>Region</th>\n",
       "      <th>SignupDate</th>\n",
       "    </tr>\n",
       "  </thead>\n",
       "  <tbody>\n",
       "    <tr>\n",
       "      <th>0</th>\n",
       "      <td>C0001</td>\n",
       "      <td>Lawrence Carroll</td>\n",
       "      <td>South America</td>\n",
       "      <td>2022-07-10</td>\n",
       "    </tr>\n",
       "    <tr>\n",
       "      <th>1</th>\n",
       "      <td>C0002</td>\n",
       "      <td>Elizabeth Lutz</td>\n",
       "      <td>Asia</td>\n",
       "      <td>2022-02-13</td>\n",
       "    </tr>\n",
       "    <tr>\n",
       "      <th>2</th>\n",
       "      <td>C0003</td>\n",
       "      <td>Michael Rivera</td>\n",
       "      <td>South America</td>\n",
       "      <td>2024-03-07</td>\n",
       "    </tr>\n",
       "    <tr>\n",
       "      <th>3</th>\n",
       "      <td>C0004</td>\n",
       "      <td>Kathleen Rodriguez</td>\n",
       "      <td>South America</td>\n",
       "      <td>2022-10-09</td>\n",
       "    </tr>\n",
       "    <tr>\n",
       "      <th>4</th>\n",
       "      <td>C0005</td>\n",
       "      <td>Laura Weber</td>\n",
       "      <td>Asia</td>\n",
       "      <td>2022-08-15</td>\n",
       "    </tr>\n",
       "  </tbody>\n",
       "</table>\n",
       "</div>"
      ],
      "text/plain": [
       "  CustomerID        CustomerName         Region  SignupDate\n",
       "0      C0001    Lawrence Carroll  South America  2022-07-10\n",
       "1      C0002      Elizabeth Lutz           Asia  2022-02-13\n",
       "2      C0003      Michael Rivera  South America  2024-03-07\n",
       "3      C0004  Kathleen Rodriguez  South America  2022-10-09\n",
       "4      C0005         Laura Weber           Asia  2022-08-15"
      ]
     },
     "execution_count": 3,
     "metadata": {},
     "output_type": "execute_result"
    }
   ],
   "source": [
    "customers.head()"
   ]
  },
  {
   "cell_type": "code",
   "execution_count": 4,
   "id": "8d929ca1",
   "metadata": {},
   "outputs": [
    {
     "data": {
      "text/html": [
       "<div>\n",
       "<style scoped>\n",
       "    .dataframe tbody tr th:only-of-type {\n",
       "        vertical-align: middle;\n",
       "    }\n",
       "\n",
       "    .dataframe tbody tr th {\n",
       "        vertical-align: top;\n",
       "    }\n",
       "\n",
       "    .dataframe thead th {\n",
       "        text-align: right;\n",
       "    }\n",
       "</style>\n",
       "<table border=\"1\" class=\"dataframe\">\n",
       "  <thead>\n",
       "    <tr style=\"text-align: right;\">\n",
       "      <th></th>\n",
       "      <th>TransactionID</th>\n",
       "      <th>CustomerID</th>\n",
       "      <th>ProductID</th>\n",
       "      <th>TransactionDate</th>\n",
       "      <th>Quantity</th>\n",
       "      <th>TotalValue</th>\n",
       "      <th>Price</th>\n",
       "    </tr>\n",
       "  </thead>\n",
       "  <tbody>\n",
       "    <tr>\n",
       "      <th>0</th>\n",
       "      <td>T00001</td>\n",
       "      <td>C0199</td>\n",
       "      <td>P067</td>\n",
       "      <td>2024-08-25 12:38:23</td>\n",
       "      <td>1</td>\n",
       "      <td>300.68</td>\n",
       "      <td>300.68</td>\n",
       "    </tr>\n",
       "    <tr>\n",
       "      <th>1</th>\n",
       "      <td>T00112</td>\n",
       "      <td>C0146</td>\n",
       "      <td>P067</td>\n",
       "      <td>2024-05-27 22:23:54</td>\n",
       "      <td>1</td>\n",
       "      <td>300.68</td>\n",
       "      <td>300.68</td>\n",
       "    </tr>\n",
       "    <tr>\n",
       "      <th>2</th>\n",
       "      <td>T00166</td>\n",
       "      <td>C0127</td>\n",
       "      <td>P067</td>\n",
       "      <td>2024-04-25 07:38:55</td>\n",
       "      <td>1</td>\n",
       "      <td>300.68</td>\n",
       "      <td>300.68</td>\n",
       "    </tr>\n",
       "    <tr>\n",
       "      <th>3</th>\n",
       "      <td>T00272</td>\n",
       "      <td>C0087</td>\n",
       "      <td>P067</td>\n",
       "      <td>2024-03-26 22:55:37</td>\n",
       "      <td>2</td>\n",
       "      <td>601.36</td>\n",
       "      <td>300.68</td>\n",
       "    </tr>\n",
       "    <tr>\n",
       "      <th>4</th>\n",
       "      <td>T00363</td>\n",
       "      <td>C0070</td>\n",
       "      <td>P067</td>\n",
       "      <td>2024-03-21 15:10:10</td>\n",
       "      <td>3</td>\n",
       "      <td>902.04</td>\n",
       "      <td>300.68</td>\n",
       "    </tr>\n",
       "  </tbody>\n",
       "</table>\n",
       "</div>"
      ],
      "text/plain": [
       "  TransactionID CustomerID ProductID      TransactionDate  Quantity  \\\n",
       "0        T00001      C0199      P067  2024-08-25 12:38:23         1   \n",
       "1        T00112      C0146      P067  2024-05-27 22:23:54         1   \n",
       "2        T00166      C0127      P067  2024-04-25 07:38:55         1   \n",
       "3        T00272      C0087      P067  2024-03-26 22:55:37         2   \n",
       "4        T00363      C0070      P067  2024-03-21 15:10:10         3   \n",
       "\n",
       "   TotalValue   Price  \n",
       "0      300.68  300.68  \n",
       "1      300.68  300.68  \n",
       "2      300.68  300.68  \n",
       "3      601.36  300.68  \n",
       "4      902.04  300.68  "
      ]
     },
     "execution_count": 4,
     "metadata": {},
     "output_type": "execute_result"
    }
   ],
   "source": [
    "transactions.head()"
   ]
  },
  {
   "cell_type": "code",
   "execution_count": 5,
   "id": "04f13c0a",
   "metadata": {},
   "outputs": [
    {
     "name": "stdout",
     "output_type": "stream",
     "text": [
      "<class 'pandas.core.frame.DataFrame'>\n",
      "RangeIndex: 200 entries, 0 to 199\n",
      "Data columns (total 4 columns):\n",
      " #   Column        Non-Null Count  Dtype \n",
      "---  ------        --------------  ----- \n",
      " 0   CustomerID    200 non-null    object\n",
      " 1   CustomerName  200 non-null    object\n",
      " 2   Region        200 non-null    object\n",
      " 3   SignupDate    200 non-null    object\n",
      "dtypes: object(4)\n",
      "memory usage: 6.4+ KB\n"
     ]
    }
   ],
   "source": [
    "customers.info()"
   ]
  },
  {
   "cell_type": "code",
   "execution_count": 6,
   "id": "d7f70c29",
   "metadata": {
    "scrolled": true
   },
   "outputs": [
    {
     "name": "stdout",
     "output_type": "stream",
     "text": [
      "<class 'pandas.core.frame.DataFrame'>\n",
      "RangeIndex: 1000 entries, 0 to 999\n",
      "Data columns (total 7 columns):\n",
      " #   Column           Non-Null Count  Dtype  \n",
      "---  ------           --------------  -----  \n",
      " 0   TransactionID    1000 non-null   object \n",
      " 1   CustomerID       1000 non-null   object \n",
      " 2   ProductID        1000 non-null   object \n",
      " 3   TransactionDate  1000 non-null   object \n",
      " 4   Quantity         1000 non-null   int64  \n",
      " 5   TotalValue       1000 non-null   float64\n",
      " 6   Price            1000 non-null   float64\n",
      "dtypes: float64(2), int64(1), object(4)\n",
      "memory usage: 54.8+ KB\n"
     ]
    }
   ],
   "source": [
    "transactions.info()"
   ]
  },
  {
   "cell_type": "code",
   "execution_count": 7,
   "id": "6509e5b6",
   "metadata": {},
   "outputs": [],
   "source": [
    "customers['SignupDate'] = pd.to_datetime(customers['SignupDate'])\n",
    "transactions['TransactionDate'] = pd.to_datetime(transactions['TransactionDate'])"
   ]
  },
  {
   "cell_type": "code",
   "execution_count": 8,
   "id": "b7d90431",
   "metadata": {
    "scrolled": true
   },
   "outputs": [
    {
     "data": {
      "text/html": [
       "<div>\n",
       "<style scoped>\n",
       "    .dataframe tbody tr th:only-of-type {\n",
       "        vertical-align: middle;\n",
       "    }\n",
       "\n",
       "    .dataframe tbody tr th {\n",
       "        vertical-align: top;\n",
       "    }\n",
       "\n",
       "    .dataframe thead th {\n",
       "        text-align: right;\n",
       "    }\n",
       "</style>\n",
       "<table border=\"1\" class=\"dataframe\">\n",
       "  <thead>\n",
       "    <tr style=\"text-align: right;\">\n",
       "      <th></th>\n",
       "      <th>SignupDate</th>\n",
       "    </tr>\n",
       "  </thead>\n",
       "  <tbody>\n",
       "    <tr>\n",
       "      <th>count</th>\n",
       "      <td>200</td>\n",
       "    </tr>\n",
       "    <tr>\n",
       "      <th>mean</th>\n",
       "      <td>2023-07-19 08:31:12</td>\n",
       "    </tr>\n",
       "    <tr>\n",
       "      <th>min</th>\n",
       "      <td>2022-01-22 00:00:00</td>\n",
       "    </tr>\n",
       "    <tr>\n",
       "      <th>25%</th>\n",
       "      <td>2022-09-26 12:00:00</td>\n",
       "    </tr>\n",
       "    <tr>\n",
       "      <th>50%</th>\n",
       "      <td>2023-08-31 12:00:00</td>\n",
       "    </tr>\n",
       "    <tr>\n",
       "      <th>75%</th>\n",
       "      <td>2024-04-12 12:00:00</td>\n",
       "    </tr>\n",
       "    <tr>\n",
       "      <th>max</th>\n",
       "      <td>2024-12-28 00:00:00</td>\n",
       "    </tr>\n",
       "  </tbody>\n",
       "</table>\n",
       "</div>"
      ],
      "text/plain": [
       "                SignupDate\n",
       "count                  200\n",
       "mean   2023-07-19 08:31:12\n",
       "min    2022-01-22 00:00:00\n",
       "25%    2022-09-26 12:00:00\n",
       "50%    2023-08-31 12:00:00\n",
       "75%    2024-04-12 12:00:00\n",
       "max    2024-12-28 00:00:00"
      ]
     },
     "execution_count": 8,
     "metadata": {},
     "output_type": "execute_result"
    }
   ],
   "source": [
    "customers.describe()"
   ]
  },
  {
   "cell_type": "code",
   "execution_count": 9,
   "id": "b35688e3",
   "metadata": {},
   "outputs": [
    {
     "data": {
      "text/html": [
       "<div>\n",
       "<style scoped>\n",
       "    .dataframe tbody tr th:only-of-type {\n",
       "        vertical-align: middle;\n",
       "    }\n",
       "\n",
       "    .dataframe tbody tr th {\n",
       "        vertical-align: top;\n",
       "    }\n",
       "\n",
       "    .dataframe thead th {\n",
       "        text-align: right;\n",
       "    }\n",
       "</style>\n",
       "<table border=\"1\" class=\"dataframe\">\n",
       "  <thead>\n",
       "    <tr style=\"text-align: right;\">\n",
       "      <th></th>\n",
       "      <th>TransactionDate</th>\n",
       "      <th>Quantity</th>\n",
       "      <th>TotalValue</th>\n",
       "      <th>Price</th>\n",
       "    </tr>\n",
       "  </thead>\n",
       "  <tbody>\n",
       "    <tr>\n",
       "      <th>count</th>\n",
       "      <td>1000</td>\n",
       "      <td>1000.000000</td>\n",
       "      <td>1000.000000</td>\n",
       "      <td>1000.00000</td>\n",
       "    </tr>\n",
       "    <tr>\n",
       "      <th>mean</th>\n",
       "      <td>2024-06-23 15:33:02.768999936</td>\n",
       "      <td>2.537000</td>\n",
       "      <td>689.995560</td>\n",
       "      <td>272.55407</td>\n",
       "    </tr>\n",
       "    <tr>\n",
       "      <th>min</th>\n",
       "      <td>2023-12-30 15:29:12</td>\n",
       "      <td>1.000000</td>\n",
       "      <td>16.080000</td>\n",
       "      <td>16.08000</td>\n",
       "    </tr>\n",
       "    <tr>\n",
       "      <th>25%</th>\n",
       "      <td>2024-03-25 22:05:34.500000</td>\n",
       "      <td>2.000000</td>\n",
       "      <td>295.295000</td>\n",
       "      <td>147.95000</td>\n",
       "    </tr>\n",
       "    <tr>\n",
       "      <th>50%</th>\n",
       "      <td>2024-06-26 17:21:52.500000</td>\n",
       "      <td>3.000000</td>\n",
       "      <td>588.880000</td>\n",
       "      <td>299.93000</td>\n",
       "    </tr>\n",
       "    <tr>\n",
       "      <th>75%</th>\n",
       "      <td>2024-09-19 14:19:57</td>\n",
       "      <td>4.000000</td>\n",
       "      <td>1011.660000</td>\n",
       "      <td>404.40000</td>\n",
       "    </tr>\n",
       "    <tr>\n",
       "      <th>max</th>\n",
       "      <td>2024-12-28 11:00:00</td>\n",
       "      <td>4.000000</td>\n",
       "      <td>1991.040000</td>\n",
       "      <td>497.76000</td>\n",
       "    </tr>\n",
       "    <tr>\n",
       "      <th>std</th>\n",
       "      <td>NaN</td>\n",
       "      <td>1.117981</td>\n",
       "      <td>493.144478</td>\n",
       "      <td>140.73639</td>\n",
       "    </tr>\n",
       "  </tbody>\n",
       "</table>\n",
       "</div>"
      ],
      "text/plain": [
       "                     TransactionDate     Quantity   TotalValue       Price\n",
       "count                           1000  1000.000000  1000.000000  1000.00000\n",
       "mean   2024-06-23 15:33:02.768999936     2.537000   689.995560   272.55407\n",
       "min              2023-12-30 15:29:12     1.000000    16.080000    16.08000\n",
       "25%       2024-03-25 22:05:34.500000     2.000000   295.295000   147.95000\n",
       "50%       2024-06-26 17:21:52.500000     3.000000   588.880000   299.93000\n",
       "75%              2024-09-19 14:19:57     4.000000  1011.660000   404.40000\n",
       "max              2024-12-28 11:00:00     4.000000  1991.040000   497.76000\n",
       "std                              NaN     1.117981   493.144478   140.73639"
      ]
     },
     "execution_count": 9,
     "metadata": {},
     "output_type": "execute_result"
    }
   ],
   "source": [
    "transactions.describe()"
   ]
  },
  {
   "cell_type": "code",
   "execution_count": 10,
   "id": "cb578a08",
   "metadata": {},
   "outputs": [],
   "source": [
    "## Aggregating transactions data by customerID\n",
    "\n",
    "trans_df = transactions.groupby('CustomerID').agg(\n",
    "    TransactionCount = ('TransactionID', 'count'),\n",
    "    UniqueProductsCount = ('ProductID', 'nunique'),\n",
    "    TotalSpend = ('TotalValue', 'sum'),\n",
    "    AvgOrderValue = ('TotalValue', 'mean')\n",
    ").reset_index()"
   ]
  },
  {
   "cell_type": "code",
   "execution_count": 11,
   "id": "b8d940fd",
   "metadata": {},
   "outputs": [
    {
     "data": {
      "text/html": [
       "<div>\n",
       "<style scoped>\n",
       "    .dataframe tbody tr th:only-of-type {\n",
       "        vertical-align: middle;\n",
       "    }\n",
       "\n",
       "    .dataframe tbody tr th {\n",
       "        vertical-align: top;\n",
       "    }\n",
       "\n",
       "    .dataframe thead th {\n",
       "        text-align: right;\n",
       "    }\n",
       "</style>\n",
       "<table border=\"1\" class=\"dataframe\">\n",
       "  <thead>\n",
       "    <tr style=\"text-align: right;\">\n",
       "      <th></th>\n",
       "      <th>CustomerID</th>\n",
       "      <th>TransactionCount</th>\n",
       "      <th>UniqueProductsCount</th>\n",
       "      <th>TotalSpend</th>\n",
       "      <th>AvgOrderValue</th>\n",
       "    </tr>\n",
       "  </thead>\n",
       "  <tbody>\n",
       "    <tr>\n",
       "      <th>0</th>\n",
       "      <td>C0001</td>\n",
       "      <td>5</td>\n",
       "      <td>5</td>\n",
       "      <td>3354.52</td>\n",
       "      <td>670.904</td>\n",
       "    </tr>\n",
       "    <tr>\n",
       "      <th>1</th>\n",
       "      <td>C0002</td>\n",
       "      <td>4</td>\n",
       "      <td>4</td>\n",
       "      <td>1862.74</td>\n",
       "      <td>465.685</td>\n",
       "    </tr>\n",
       "    <tr>\n",
       "      <th>2</th>\n",
       "      <td>C0003</td>\n",
       "      <td>4</td>\n",
       "      <td>4</td>\n",
       "      <td>2725.38</td>\n",
       "      <td>681.345</td>\n",
       "    </tr>\n",
       "    <tr>\n",
       "      <th>3</th>\n",
       "      <td>C0004</td>\n",
       "      <td>8</td>\n",
       "      <td>8</td>\n",
       "      <td>5354.88</td>\n",
       "      <td>669.360</td>\n",
       "    </tr>\n",
       "    <tr>\n",
       "      <th>4</th>\n",
       "      <td>C0005</td>\n",
       "      <td>3</td>\n",
       "      <td>3</td>\n",
       "      <td>2034.24</td>\n",
       "      <td>678.080</td>\n",
       "    </tr>\n",
       "  </tbody>\n",
       "</table>\n",
       "</div>"
      ],
      "text/plain": [
       "  CustomerID  TransactionCount  UniqueProductsCount  TotalSpend  AvgOrderValue\n",
       "0      C0001                 5                    5     3354.52        670.904\n",
       "1      C0002                 4                    4     1862.74        465.685\n",
       "2      C0003                 4                    4     2725.38        681.345\n",
       "3      C0004                 8                    8     5354.88        669.360\n",
       "4      C0005                 3                    3     2034.24        678.080"
      ]
     },
     "execution_count": 11,
     "metadata": {},
     "output_type": "execute_result"
    }
   ],
   "source": [
    "trans_df.head()"
   ]
  },
  {
   "cell_type": "code",
   "execution_count": 12,
   "id": "e4981e26",
   "metadata": {},
   "outputs": [],
   "source": [
    "merged_df = trans_df.merge(customers, on='CustomerID', how='inner')\n",
    "# Inner join returns only those who have made atleast a transaction"
   ]
  },
  {
   "cell_type": "code",
   "execution_count": 13,
   "id": "b1ec867d",
   "metadata": {},
   "outputs": [
    {
     "data": {
      "text/plain": [
       "(199, 8)"
      ]
     },
     "execution_count": 13,
     "metadata": {},
     "output_type": "execute_result"
    }
   ],
   "source": [
    "merged_df.shape"
   ]
  },
  {
   "cell_type": "code",
   "execution_count": 14,
   "id": "d4933978",
   "metadata": {},
   "outputs": [
    {
     "data": {
      "text/html": [
       "<div>\n",
       "<style scoped>\n",
       "    .dataframe tbody tr th:only-of-type {\n",
       "        vertical-align: middle;\n",
       "    }\n",
       "\n",
       "    .dataframe tbody tr th {\n",
       "        vertical-align: top;\n",
       "    }\n",
       "\n",
       "    .dataframe thead th {\n",
       "        text-align: right;\n",
       "    }\n",
       "</style>\n",
       "<table border=\"1\" class=\"dataframe\">\n",
       "  <thead>\n",
       "    <tr style=\"text-align: right;\">\n",
       "      <th></th>\n",
       "      <th>CustomerID</th>\n",
       "      <th>TransactionCount</th>\n",
       "      <th>UniqueProductsCount</th>\n",
       "      <th>TotalSpend</th>\n",
       "      <th>AvgOrderValue</th>\n",
       "      <th>CustomerName</th>\n",
       "      <th>Region</th>\n",
       "      <th>SignupDate</th>\n",
       "    </tr>\n",
       "  </thead>\n",
       "  <tbody>\n",
       "    <tr>\n",
       "      <th>0</th>\n",
       "      <td>C0001</td>\n",
       "      <td>5</td>\n",
       "      <td>5</td>\n",
       "      <td>3354.52</td>\n",
       "      <td>670.904</td>\n",
       "      <td>Lawrence Carroll</td>\n",
       "      <td>South America</td>\n",
       "      <td>2022-07-10</td>\n",
       "    </tr>\n",
       "    <tr>\n",
       "      <th>1</th>\n",
       "      <td>C0002</td>\n",
       "      <td>4</td>\n",
       "      <td>4</td>\n",
       "      <td>1862.74</td>\n",
       "      <td>465.685</td>\n",
       "      <td>Elizabeth Lutz</td>\n",
       "      <td>Asia</td>\n",
       "      <td>2022-02-13</td>\n",
       "    </tr>\n",
       "    <tr>\n",
       "      <th>2</th>\n",
       "      <td>C0003</td>\n",
       "      <td>4</td>\n",
       "      <td>4</td>\n",
       "      <td>2725.38</td>\n",
       "      <td>681.345</td>\n",
       "      <td>Michael Rivera</td>\n",
       "      <td>South America</td>\n",
       "      <td>2024-03-07</td>\n",
       "    </tr>\n",
       "    <tr>\n",
       "      <th>3</th>\n",
       "      <td>C0004</td>\n",
       "      <td>8</td>\n",
       "      <td>8</td>\n",
       "      <td>5354.88</td>\n",
       "      <td>669.360</td>\n",
       "      <td>Kathleen Rodriguez</td>\n",
       "      <td>South America</td>\n",
       "      <td>2022-10-09</td>\n",
       "    </tr>\n",
       "    <tr>\n",
       "      <th>4</th>\n",
       "      <td>C0005</td>\n",
       "      <td>3</td>\n",
       "      <td>3</td>\n",
       "      <td>2034.24</td>\n",
       "      <td>678.080</td>\n",
       "      <td>Laura Weber</td>\n",
       "      <td>Asia</td>\n",
       "      <td>2022-08-15</td>\n",
       "    </tr>\n",
       "  </tbody>\n",
       "</table>\n",
       "</div>"
      ],
      "text/plain": [
       "  CustomerID  TransactionCount  UniqueProductsCount  TotalSpend  \\\n",
       "0      C0001                 5                    5     3354.52   \n",
       "1      C0002                 4                    4     1862.74   \n",
       "2      C0003                 4                    4     2725.38   \n",
       "3      C0004                 8                    8     5354.88   \n",
       "4      C0005                 3                    3     2034.24   \n",
       "\n",
       "   AvgOrderValue        CustomerName         Region SignupDate  \n",
       "0        670.904    Lawrence Carroll  South America 2022-07-10  \n",
       "1        465.685      Elizabeth Lutz           Asia 2022-02-13  \n",
       "2        681.345      Michael Rivera  South America 2024-03-07  \n",
       "3        669.360  Kathleen Rodriguez  South America 2022-10-09  \n",
       "4        678.080         Laura Weber           Asia 2022-08-15  "
      ]
     },
     "execution_count": 14,
     "metadata": {},
     "output_type": "execute_result"
    }
   ],
   "source": [
    "merged_df.head()"
   ]
  },
  {
   "cell_type": "code",
   "execution_count": 15,
   "id": "4c73f1a8",
   "metadata": {},
   "outputs": [
    {
     "data": {
      "text/plain": [
       "0       932\n",
       "1      1079\n",
       "2       326\n",
       "3       841\n",
       "4       896\n",
       "       ... \n",
       "194     965\n",
       "195     678\n",
       "196    1065\n",
       "197     786\n",
       "198     596\n",
       "Name: SignupDate, Length: 199, dtype: int64"
      ]
     },
     "execution_count": 15,
     "metadata": {},
     "output_type": "execute_result"
    }
   ],
   "source": [
    "(pd.to_datetime('today') - merged_df['SignupDate']).dt.days"
   ]
  },
  {
   "cell_type": "code",
   "execution_count": 16,
   "id": "392c2df8",
   "metadata": {},
   "outputs": [],
   "source": [
    "merged_df['CustomerTenure'] = (pd.to_datetime('today') - merged_df['SignupDate']).dt.days\n",
    "merged_df['PurchaseFrequency'] = merged_df['TransactionCount']/merged_df['CustomerTenure']"
   ]
  },
  {
   "cell_type": "code",
   "execution_count": 17,
   "id": "4501cc14",
   "metadata": {},
   "outputs": [
    {
     "data": {
      "text/html": [
       "<div>\n",
       "<style scoped>\n",
       "    .dataframe tbody tr th:only-of-type {\n",
       "        vertical-align: middle;\n",
       "    }\n",
       "\n",
       "    .dataframe tbody tr th {\n",
       "        vertical-align: top;\n",
       "    }\n",
       "\n",
       "    .dataframe thead th {\n",
       "        text-align: right;\n",
       "    }\n",
       "</style>\n",
       "<table border=\"1\" class=\"dataframe\">\n",
       "  <thead>\n",
       "    <tr style=\"text-align: right;\">\n",
       "      <th></th>\n",
       "      <th>CustomerID</th>\n",
       "      <th>TransactionCount</th>\n",
       "      <th>UniqueProductsCount</th>\n",
       "      <th>TotalSpend</th>\n",
       "      <th>AvgOrderValue</th>\n",
       "      <th>CustomerName</th>\n",
       "      <th>Region</th>\n",
       "      <th>SignupDate</th>\n",
       "      <th>CustomerTenure</th>\n",
       "      <th>PurchaseFrequency</th>\n",
       "    </tr>\n",
       "  </thead>\n",
       "  <tbody>\n",
       "    <tr>\n",
       "      <th>0</th>\n",
       "      <td>C0001</td>\n",
       "      <td>5</td>\n",
       "      <td>5</td>\n",
       "      <td>3354.52</td>\n",
       "      <td>670.904</td>\n",
       "      <td>Lawrence Carroll</td>\n",
       "      <td>South America</td>\n",
       "      <td>2022-07-10</td>\n",
       "      <td>932</td>\n",
       "      <td>0.005365</td>\n",
       "    </tr>\n",
       "    <tr>\n",
       "      <th>1</th>\n",
       "      <td>C0002</td>\n",
       "      <td>4</td>\n",
       "      <td>4</td>\n",
       "      <td>1862.74</td>\n",
       "      <td>465.685</td>\n",
       "      <td>Elizabeth Lutz</td>\n",
       "      <td>Asia</td>\n",
       "      <td>2022-02-13</td>\n",
       "      <td>1079</td>\n",
       "      <td>0.003707</td>\n",
       "    </tr>\n",
       "    <tr>\n",
       "      <th>2</th>\n",
       "      <td>C0003</td>\n",
       "      <td>4</td>\n",
       "      <td>4</td>\n",
       "      <td>2725.38</td>\n",
       "      <td>681.345</td>\n",
       "      <td>Michael Rivera</td>\n",
       "      <td>South America</td>\n",
       "      <td>2024-03-07</td>\n",
       "      <td>326</td>\n",
       "      <td>0.012270</td>\n",
       "    </tr>\n",
       "    <tr>\n",
       "      <th>3</th>\n",
       "      <td>C0004</td>\n",
       "      <td>8</td>\n",
       "      <td>8</td>\n",
       "      <td>5354.88</td>\n",
       "      <td>669.360</td>\n",
       "      <td>Kathleen Rodriguez</td>\n",
       "      <td>South America</td>\n",
       "      <td>2022-10-09</td>\n",
       "      <td>841</td>\n",
       "      <td>0.009512</td>\n",
       "    </tr>\n",
       "    <tr>\n",
       "      <th>4</th>\n",
       "      <td>C0005</td>\n",
       "      <td>3</td>\n",
       "      <td>3</td>\n",
       "      <td>2034.24</td>\n",
       "      <td>678.080</td>\n",
       "      <td>Laura Weber</td>\n",
       "      <td>Asia</td>\n",
       "      <td>2022-08-15</td>\n",
       "      <td>896</td>\n",
       "      <td>0.003348</td>\n",
       "    </tr>\n",
       "  </tbody>\n",
       "</table>\n",
       "</div>"
      ],
      "text/plain": [
       "  CustomerID  TransactionCount  UniqueProductsCount  TotalSpend  \\\n",
       "0      C0001                 5                    5     3354.52   \n",
       "1      C0002                 4                    4     1862.74   \n",
       "2      C0003                 4                    4     2725.38   \n",
       "3      C0004                 8                    8     5354.88   \n",
       "4      C0005                 3                    3     2034.24   \n",
       "\n",
       "   AvgOrderValue        CustomerName         Region SignupDate  \\\n",
       "0        670.904    Lawrence Carroll  South America 2022-07-10   \n",
       "1        465.685      Elizabeth Lutz           Asia 2022-02-13   \n",
       "2        681.345      Michael Rivera  South America 2024-03-07   \n",
       "3        669.360  Kathleen Rodriguez  South America 2022-10-09   \n",
       "4        678.080         Laura Weber           Asia 2022-08-15   \n",
       "\n",
       "   CustomerTenure  PurchaseFrequency  \n",
       "0             932           0.005365  \n",
       "1            1079           0.003707  \n",
       "2             326           0.012270  \n",
       "3             841           0.009512  \n",
       "4             896           0.003348  "
      ]
     },
     "execution_count": 17,
     "metadata": {},
     "output_type": "execute_result"
    }
   ],
   "source": [
    "merged_df.head()"
   ]
  },
  {
   "cell_type": "code",
   "execution_count": 18,
   "id": "04bb3136",
   "metadata": {},
   "outputs": [
    {
     "data": {
      "text/plain": [
       "Index(['CustomerID', 'TransactionCount', 'UniqueProductsCount', 'TotalSpend',\n",
       "       'AvgOrderValue', 'CustomerName', 'Region', 'SignupDate',\n",
       "       'CustomerTenure', 'PurchaseFrequency'],\n",
       "      dtype='object')"
      ]
     },
     "execution_count": 18,
     "metadata": {},
     "output_type": "execute_result"
    }
   ],
   "source": [
    "merged_df.columns"
   ]
  },
  {
   "cell_type": "code",
   "execution_count": 19,
   "id": "f64cea05",
   "metadata": {},
   "outputs": [],
   "source": [
    "## Selecting the necessary columns\n",
    "\n",
    "df = merged_df[['TransactionCount', 'UniqueProductsCount', 'TotalSpend',\n",
    "       'AvgOrderValue', 'Region','CustomerTenure', 'PurchaseFrequency']]"
   ]
  },
  {
   "cell_type": "code",
   "execution_count": 20,
   "id": "a4d6eaa4",
   "metadata": {},
   "outputs": [
    {
     "data": {
      "text/plain": [
       "(199, 7)"
      ]
     },
     "execution_count": 20,
     "metadata": {},
     "output_type": "execute_result"
    }
   ],
   "source": [
    "df.shape"
   ]
  },
  {
   "cell_type": "markdown",
   "id": "f2f5c34d",
   "metadata": {},
   "source": [
    "# Data Preprocessing"
   ]
  },
  {
   "cell_type": "code",
   "execution_count": 21,
   "id": "d69379b9",
   "metadata": {},
   "outputs": [],
   "source": [
    "num = df.columns.tolist()\n",
    "num.remove('Region')"
   ]
  },
  {
   "cell_type": "code",
   "execution_count": 22,
   "id": "91596174",
   "metadata": {
    "scrolled": true
   },
   "outputs": [
    {
     "data": {
      "text/html": [
       "<div>\n",
       "<style scoped>\n",
       "    .dataframe tbody tr th:only-of-type {\n",
       "        vertical-align: middle;\n",
       "    }\n",
       "\n",
       "    .dataframe tbody tr th {\n",
       "        vertical-align: top;\n",
       "    }\n",
       "\n",
       "    .dataframe thead th {\n",
       "        text-align: right;\n",
       "    }\n",
       "</style>\n",
       "<table border=\"1\" class=\"dataframe\">\n",
       "  <thead>\n",
       "    <tr style=\"text-align: right;\">\n",
       "      <th></th>\n",
       "      <th>index</th>\n",
       "      <th>count</th>\n",
       "      <th>mean</th>\n",
       "      <th>std</th>\n",
       "      <th>min</th>\n",
       "      <th>25%</th>\n",
       "      <th>50%</th>\n",
       "      <th>75%</th>\n",
       "      <th>max</th>\n",
       "      <th>skewness</th>\n",
       "      <th>kurtosis</th>\n",
       "    </tr>\n",
       "  </thead>\n",
       "  <tbody>\n",
       "    <tr>\n",
       "      <th>0</th>\n",
       "      <td>TransactionCount</td>\n",
       "      <td>199.0</td>\n",
       "      <td>5.025126</td>\n",
       "      <td>2.198340</td>\n",
       "      <td>1.000000</td>\n",
       "      <td>3.000000</td>\n",
       "      <td>5.000000</td>\n",
       "      <td>6.000000</td>\n",
       "      <td>11.000000</td>\n",
       "      <td>0.29</td>\n",
       "      <td>-0.24</td>\n",
       "    </tr>\n",
       "    <tr>\n",
       "      <th>1</th>\n",
       "      <td>UniqueProductsCount</td>\n",
       "      <td>199.0</td>\n",
       "      <td>4.894472</td>\n",
       "      <td>2.113908</td>\n",
       "      <td>1.000000</td>\n",
       "      <td>3.000000</td>\n",
       "      <td>5.000000</td>\n",
       "      <td>6.000000</td>\n",
       "      <td>10.000000</td>\n",
       "      <td>0.22</td>\n",
       "      <td>-0.29</td>\n",
       "    </tr>\n",
       "    <tr>\n",
       "      <th>2</th>\n",
       "      <td>TotalSpend</td>\n",
       "      <td>199.0</td>\n",
       "      <td>3467.314372</td>\n",
       "      <td>1832.677958</td>\n",
       "      <td>82.360000</td>\n",
       "      <td>2162.040000</td>\n",
       "      <td>3137.660000</td>\n",
       "      <td>4770.225000</td>\n",
       "      <td>10673.870000</td>\n",
       "      <td>0.54</td>\n",
       "      <td>0.37</td>\n",
       "    </tr>\n",
       "    <tr>\n",
       "      <th>3</th>\n",
       "      <td>AvgOrderValue</td>\n",
       "      <td>199.0</td>\n",
       "      <td>687.580182</td>\n",
       "      <td>237.936649</td>\n",
       "      <td>82.360000</td>\n",
       "      <td>542.941667</td>\n",
       "      <td>677.207500</td>\n",
       "      <td>828.624167</td>\n",
       "      <td>1323.133333</td>\n",
       "      <td>0.17</td>\n",
       "      <td>0.09</td>\n",
       "    </tr>\n",
       "    <tr>\n",
       "      <th>4</th>\n",
       "      <td>CustomerTenure</td>\n",
       "      <td>199.0</td>\n",
       "      <td>558.135678</td>\n",
       "      <td>326.273413</td>\n",
       "      <td>30.000000</td>\n",
       "      <td>289.000000</td>\n",
       "      <td>527.000000</td>\n",
       "      <td>855.000000</td>\n",
       "      <td>1101.000000</td>\n",
       "      <td>0.10</td>\n",
       "      <td>-1.34</td>\n",
       "    </tr>\n",
       "    <tr>\n",
       "      <th>5</th>\n",
       "      <td>PurchaseFrequency</td>\n",
       "      <td>199.0</td>\n",
       "      <td>0.016487</td>\n",
       "      <td>0.020314</td>\n",
       "      <td>0.000989</td>\n",
       "      <td>0.005178</td>\n",
       "      <td>0.009063</td>\n",
       "      <td>0.017153</td>\n",
       "      <td>0.166667</td>\n",
       "      <td>3.25</td>\n",
       "      <td>15.80</td>\n",
       "    </tr>\n",
       "  </tbody>\n",
       "</table>\n",
       "</div>"
      ],
      "text/plain": [
       "                 index  count         mean          std        min  \\\n",
       "0     TransactionCount  199.0     5.025126     2.198340   1.000000   \n",
       "1  UniqueProductsCount  199.0     4.894472     2.113908   1.000000   \n",
       "2           TotalSpend  199.0  3467.314372  1832.677958  82.360000   \n",
       "3        AvgOrderValue  199.0   687.580182   237.936649  82.360000   \n",
       "4       CustomerTenure  199.0   558.135678   326.273413  30.000000   \n",
       "5    PurchaseFrequency  199.0     0.016487     0.020314   0.000989   \n",
       "\n",
       "           25%          50%          75%           max  skewness  kurtosis  \n",
       "0     3.000000     5.000000     6.000000     11.000000      0.29     -0.24  \n",
       "1     3.000000     5.000000     6.000000     10.000000      0.22     -0.29  \n",
       "2  2162.040000  3137.660000  4770.225000  10673.870000      0.54      0.37  \n",
       "3   542.941667   677.207500   828.624167   1323.133333      0.17      0.09  \n",
       "4   289.000000   527.000000   855.000000   1101.000000      0.10     -1.34  \n",
       "5     0.005178     0.009063     0.017153      0.166667      3.25     15.80  "
      ]
     },
     "execution_count": 22,
     "metadata": {},
     "output_type": "execute_result"
    }
   ],
   "source": [
    "summary = df[num].describe().T.reset_index()\n",
    "summary['skewness'] = summary['index'].map(lambda x: round(df[x].skew(),2))\n",
    "summary['kurtosis'] = summary['index'].map(lambda x: round(df[x].kurt(),2))\n",
    "summary"
   ]
  },
  {
   "cell_type": "code",
   "execution_count": 23,
   "id": "24a7e8b6",
   "metadata": {},
   "outputs": [],
   "source": [
    "## Purchase frequency is right skewed and needs transformation"
   ]
  },
  {
   "cell_type": "code",
   "execution_count": 24,
   "id": "54c89eb0",
   "metadata": {},
   "outputs": [
    {
     "data": {
      "image/png": "[encoded data removed]",
      "text/plain": [
       "<Figure size 640x480 with 2 Axes>"
      ]
     },
     "metadata": {},
     "output_type": "display_data"
    }
   ],
   "source": [
    "corr = df[num].corr()\n",
    "sns.heatmap(corr, annot=True, cmap='coolwarm')\n",
    "plt.show()"
   ]
  },
  {
   "cell_type": "code",
   "execution_count": 25,
   "id": "fbaccc55",
   "metadata": {},
   "outputs": [],
   "source": [
    "# Transaction count and Unique products count are highly correlated.(Dropping one column to reduce the diemension)\n",
    "# Customer Tenure and Purchase Frequency have moderately negative correlation."
   ]
  },
  {
   "cell_type": "code",
   "execution_count": 26,
   "id": "a9a1328b",
   "metadata": {},
   "outputs": [],
   "source": [
    "df.drop(columns=['UniqueProductsCount'], inplace=True)"
   ]
  },
  {
   "cell_type": "code",
   "execution_count": 27,
   "id": "61711f1a",
   "metadata": {
    "scrolled": true
   },
   "outputs": [
    {
     "data": {
      "text/html": [
       "<div>\n",
       "<style scoped>\n",
       "    .dataframe tbody tr th:only-of-type {\n",
       "        vertical-align: middle;\n",
       "    }\n",
       "\n",
       "    .dataframe tbody tr th {\n",
       "        vertical-align: top;\n",
       "    }\n",
       "\n",
       "    .dataframe thead th {\n",
       "        text-align: right;\n",
       "    }\n",
       "</style>\n",
       "<table border=\"1\" class=\"dataframe\">\n",
       "  <thead>\n",
       "    <tr style=\"text-align: right;\">\n",
       "      <th></th>\n",
       "      <th>index</th>\n",
       "      <th>count</th>\n",
       "      <th>mean</th>\n",
       "      <th>std</th>\n",
       "      <th>min</th>\n",
       "      <th>25%</th>\n",
       "      <th>50%</th>\n",
       "      <th>75%</th>\n",
       "      <th>max</th>\n",
       "      <th>skewness</th>\n",
       "      <th>kurtosis</th>\n",
       "    </tr>\n",
       "  </thead>\n",
       "  <tbody>\n",
       "    <tr>\n",
       "      <th>0</th>\n",
       "      <td>TransactionCount</td>\n",
       "      <td>199.0</td>\n",
       "      <td>5.025126</td>\n",
       "      <td>2.198340</td>\n",
       "      <td>1.000000</td>\n",
       "      <td>3.000000</td>\n",
       "      <td>5.000000</td>\n",
       "      <td>6.000000</td>\n",
       "      <td>11.000000</td>\n",
       "      <td>0.29</td>\n",
       "      <td>-0.24</td>\n",
       "    </tr>\n",
       "    <tr>\n",
       "      <th>1</th>\n",
       "      <td>UniqueProductsCount</td>\n",
       "      <td>199.0</td>\n",
       "      <td>4.894472</td>\n",
       "      <td>2.113908</td>\n",
       "      <td>1.000000</td>\n",
       "      <td>3.000000</td>\n",
       "      <td>5.000000</td>\n",
       "      <td>6.000000</td>\n",
       "      <td>10.000000</td>\n",
       "      <td>0.22</td>\n",
       "      <td>-0.29</td>\n",
       "    </tr>\n",
       "    <tr>\n",
       "      <th>2</th>\n",
       "      <td>TotalSpend</td>\n",
       "      <td>199.0</td>\n",
       "      <td>3467.314372</td>\n",
       "      <td>1832.677958</td>\n",
       "      <td>82.360000</td>\n",
       "      <td>2162.040000</td>\n",
       "      <td>3137.660000</td>\n",
       "      <td>4770.225000</td>\n",
       "      <td>10673.870000</td>\n",
       "      <td>0.54</td>\n",
       "      <td>0.37</td>\n",
       "    </tr>\n",
       "    <tr>\n",
       "      <th>3</th>\n",
       "      <td>AvgOrderValue</td>\n",
       "      <td>199.0</td>\n",
       "      <td>687.580182</td>\n",
       "      <td>237.936649</td>\n",
       "      <td>82.360000</td>\n",
       "      <td>542.941667</td>\n",
       "      <td>677.207500</td>\n",
       "      <td>828.624167</td>\n",
       "      <td>1323.133333</td>\n",
       "      <td>0.17</td>\n",
       "      <td>0.09</td>\n",
       "    </tr>\n",
       "    <tr>\n",
       "      <th>4</th>\n",
       "      <td>CustomerTenure</td>\n",
       "      <td>199.0</td>\n",
       "      <td>558.135678</td>\n",
       "      <td>326.273413</td>\n",
       "      <td>30.000000</td>\n",
       "      <td>289.000000</td>\n",
       "      <td>527.000000</td>\n",
       "      <td>855.000000</td>\n",
       "      <td>1101.000000</td>\n",
       "      <td>0.10</td>\n",
       "      <td>-1.34</td>\n",
       "    </tr>\n",
       "    <tr>\n",
       "      <th>5</th>\n",
       "      <td>PurchaseFrequency</td>\n",
       "      <td>199.0</td>\n",
       "      <td>0.016487</td>\n",
       "      <td>0.020314</td>\n",
       "      <td>0.000989</td>\n",
       "      <td>0.005178</td>\n",
       "      <td>0.009063</td>\n",
       "      <td>0.017153</td>\n",
       "      <td>0.166667</td>\n",
       "      <td>3.25</td>\n",
       "      <td>15.80</td>\n",
       "    </tr>\n",
       "  </tbody>\n",
       "</table>\n",
       "</div>"
      ],
      "text/plain": [
       "                 index  count         mean          std        min  \\\n",
       "0     TransactionCount  199.0     5.025126     2.198340   1.000000   \n",
       "1  UniqueProductsCount  199.0     4.894472     2.113908   1.000000   \n",
       "2           TotalSpend  199.0  3467.314372  1832.677958  82.360000   \n",
       "3        AvgOrderValue  199.0   687.580182   237.936649  82.360000   \n",
       "4       CustomerTenure  199.0   558.135678   326.273413  30.000000   \n",
       "5    PurchaseFrequency  199.0     0.016487     0.020314   0.000989   \n",
       "\n",
       "           25%          50%          75%           max  skewness  kurtosis  \n",
       "0     3.000000     5.000000     6.000000     11.000000      0.29     -0.24  \n",
       "1     3.000000     5.000000     6.000000     10.000000      0.22     -0.29  \n",
       "2  2162.040000  3137.660000  4770.225000  10673.870000      0.54      0.37  \n",
       "3   542.941667   677.207500   828.624167   1323.133333      0.17      0.09  \n",
       "4   289.000000   527.000000   855.000000   1101.000000      0.10     -1.34  \n",
       "5     0.005178     0.009063     0.017153      0.166667      3.25     15.80  "
      ]
     },
     "execution_count": 27,
     "metadata": {},
     "output_type": "execute_result"
    }
   ],
   "source": [
    "summary"
   ]
  },
  {
   "cell_type": "markdown",
   "id": "9dcf317a",
   "metadata": {},
   "source": [
    "# Transformation"
   ]
  },
  {
   "cell_type": "code",
   "execution_count": 28,
   "id": "d01b35db",
   "metadata": {},
   "outputs": [],
   "source": [
    "from sklearn.preprocessing import PowerTransformer"
   ]
  },
  {
   "cell_type": "code",
   "execution_count": 29,
   "id": "70f52f67",
   "metadata": {
    "scrolled": true
   },
   "outputs": [],
   "source": [
    "pt = PowerTransformer(method='box-cox')\n",
    "df['PurchaseFrequency'] = pt.fit_transform(df[['PurchaseFrequency']])"
   ]
  },
  {
   "cell_type": "code",
   "execution_count": 30,
   "id": "16780c7a",
   "metadata": {},
   "outputs": [
    {
     "data": {
      "text/plain": [
       "0.011214553357122098"
      ]
     },
     "execution_count": 30,
     "metadata": {},
     "output_type": "execute_result"
    }
   ],
   "source": [
    "df['PurchaseFrequency'].skew()"
   ]
  },
  {
   "cell_type": "code",
   "execution_count": 31,
   "id": "afb6f9ad",
   "metadata": {
    "scrolled": true
   },
   "outputs": [
    {
     "data": {
      "text/plain": [
       "count    1.990000e+02\n",
       "mean     7.855246e-16\n",
       "std      1.002522e+00\n",
       "min     -3.141610e+00\n",
       "25%     -7.144639e-01\n",
       "50%     -4.958672e-02\n",
       "75%      6.278263e-01\n",
       "max      2.479578e+00\n",
       "Name: PurchaseFrequency, dtype: float64"
      ]
     },
     "execution_count": 31,
     "metadata": {},
     "output_type": "execute_result"
    }
   ],
   "source": [
    "df['PurchaseFrequency'].describe()"
   ]
  },
  {
   "cell_type": "markdown",
   "id": "15c365c6",
   "metadata": {},
   "source": [
    "# Scaling"
   ]
  },
  {
   "cell_type": "code",
   "execution_count": 32,
   "id": "22a57c78",
   "metadata": {},
   "outputs": [
    {
     "data": {
      "text/plain": [
       "['TransactionCount',\n",
       " 'UniqueProductsCount',\n",
       " 'TotalSpend',\n",
       " 'AvgOrderValue',\n",
       " 'CustomerTenure',\n",
       " 'PurchaseFrequency']"
      ]
     },
     "execution_count": 32,
     "metadata": {},
     "output_type": "execute_result"
    }
   ],
   "source": [
    "num"
   ]
  },
  {
   "cell_type": "code",
   "execution_count": 33,
   "id": "cebdbb13",
   "metadata": {},
   "outputs": [],
   "source": [
    "num.remove('UniqueProductsCount')"
   ]
  },
  {
   "cell_type": "code",
   "execution_count": 34,
   "id": "dcf9209e",
   "metadata": {},
   "outputs": [],
   "source": [
    "df_sc = df.copy()\n",
    "from sklearn.preprocessing import StandardScaler\n",
    "s = StandardScaler()\n",
    "df_sc[num] = s.fit_transform(df_sc[num])"
   ]
  },
  {
   "cell_type": "code",
   "execution_count": 35,
   "id": "54eaeb72",
   "metadata": {
    "scrolled": true
   },
   "outputs": [
    {
     "data": {
      "text/html": [
       "<div>\n",
       "<style scoped>\n",
       "    .dataframe tbody tr th:only-of-type {\n",
       "        vertical-align: middle;\n",
       "    }\n",
       "\n",
       "    .dataframe tbody tr th {\n",
       "        vertical-align: top;\n",
       "    }\n",
       "\n",
       "    .dataframe thead th {\n",
       "        text-align: right;\n",
       "    }\n",
       "</style>\n",
       "<table border=\"1\" class=\"dataframe\">\n",
       "  <thead>\n",
       "    <tr style=\"text-align: right;\">\n",
       "      <th></th>\n",
       "      <th>TransactionCount</th>\n",
       "      <th>TotalSpend</th>\n",
       "      <th>AvgOrderValue</th>\n",
       "      <th>CustomerTenure</th>\n",
       "      <th>PurchaseFrequency</th>\n",
       "    </tr>\n",
       "  </thead>\n",
       "  <tbody>\n",
       "    <tr>\n",
       "      <th>count</th>\n",
       "      <td>1.990000e+02</td>\n",
       "      <td>1.990000e+02</td>\n",
       "      <td>1.990000e+02</td>\n",
       "      <td>199.000000</td>\n",
       "      <td>1.990000e+02</td>\n",
       "    </tr>\n",
       "    <tr>\n",
       "      <th>mean</th>\n",
       "      <td>-2.008444e-16</td>\n",
       "      <td>-2.410132e-16</td>\n",
       "      <td>-9.149577e-17</td>\n",
       "      <td>0.000000</td>\n",
       "      <td>-2.454764e-17</td>\n",
       "    </tr>\n",
       "    <tr>\n",
       "      <th>std</th>\n",
       "      <td>1.002522e+00</td>\n",
       "      <td>1.002522e+00</td>\n",
       "      <td>1.002522e+00</td>\n",
       "      <td>1.002522</td>\n",
       "      <td>1.002522e+00</td>\n",
       "    </tr>\n",
       "    <tr>\n",
       "      <th>min</th>\n",
       "      <td>-1.835602e+00</td>\n",
       "      <td>-1.851657e+00</td>\n",
       "      <td>-2.550034e+00</td>\n",
       "      <td>-1.622773</td>\n",
       "      <td>-3.141610e+00</td>\n",
       "    </tr>\n",
       "    <tr>\n",
       "      <th>25%</th>\n",
       "      <td>-9.235301e-01</td>\n",
       "      <td>-7.140187e-01</td>\n",
       "      <td>-6.094198e-01</td>\n",
       "      <td>-0.826958</td>\n",
       "      <td>-7.144639e-01</td>\n",
       "    </tr>\n",
       "    <tr>\n",
       "      <th>50%</th>\n",
       "      <td>-1.145819e-02</td>\n",
       "      <td>-1.803294e-01</td>\n",
       "      <td>-4.370425e-02</td>\n",
       "      <td>-0.095669</td>\n",
       "      <td>-4.958672e-02</td>\n",
       "    </tr>\n",
       "    <tr>\n",
       "      <th>75%</th>\n",
       "      <td>4.445778e-01</td>\n",
       "      <td>7.127257e-01</td>\n",
       "      <td>5.942746e-01</td>\n",
       "      <td>0.912158</td>\n",
       "      <td>6.278263e-01</td>\n",
       "    </tr>\n",
       "    <tr>\n",
       "      <th>max</th>\n",
       "      <td>2.724757e+00</td>\n",
       "      <td>3.942172e+00</td>\n",
       "      <td>2.677839e+00</td>\n",
       "      <td>1.668029</td>\n",
       "      <td>2.479578e+00</td>\n",
       "    </tr>\n",
       "  </tbody>\n",
       "</table>\n",
       "</div>"
      ],
      "text/plain": [
       "       TransactionCount    TotalSpend  AvgOrderValue  CustomerTenure  \\\n",
       "count      1.990000e+02  1.990000e+02   1.990000e+02      199.000000   \n",
       "mean      -2.008444e-16 -2.410132e-16  -9.149577e-17        0.000000   \n",
       "std        1.002522e+00  1.002522e+00   1.002522e+00        1.002522   \n",
       "min       -1.835602e+00 -1.851657e+00  -2.550034e+00       -1.622773   \n",
       "25%       -9.235301e-01 -7.140187e-01  -6.094198e-01       -0.826958   \n",
       "50%       -1.145819e-02 -1.803294e-01  -4.370425e-02       -0.095669   \n",
       "75%        4.445778e-01  7.127257e-01   5.942746e-01        0.912158   \n",
       "max        2.724757e+00  3.942172e+00   2.677839e+00        1.668029   \n",
       "\n",
       "       PurchaseFrequency  \n",
       "count       1.990000e+02  \n",
       "mean       -2.454764e-17  \n",
       "std         1.002522e+00  \n",
       "min        -3.141610e+00  \n",
       "25%        -7.144639e-01  \n",
       "50%        -4.958672e-02  \n",
       "75%         6.278263e-01  \n",
       "max         2.479578e+00  "
      ]
     },
     "execution_count": 35,
     "metadata": {},
     "output_type": "execute_result"
    }
   ],
   "source": [
    "df_sc.describe()"
   ]
  },
  {
   "cell_type": "markdown",
   "id": "007a9d26",
   "metadata": {
    "scrolled": true
   },
   "source": [
    "# Encoding"
   ]
  },
  {
   "cell_type": "code",
   "execution_count": 36,
   "id": "80be8c07",
   "metadata": {},
   "outputs": [
    {
     "data": {
      "text/html": [
       "<div>\n",
       "<style scoped>\n",
       "    .dataframe tbody tr th:only-of-type {\n",
       "        vertical-align: middle;\n",
       "    }\n",
       "\n",
       "    .dataframe tbody tr th {\n",
       "        vertical-align: top;\n",
       "    }\n",
       "\n",
       "    .dataframe thead th {\n",
       "        text-align: right;\n",
       "    }\n",
       "</style>\n",
       "<table border=\"1\" class=\"dataframe\">\n",
       "  <thead>\n",
       "    <tr style=\"text-align: right;\">\n",
       "      <th></th>\n",
       "      <th>TransactionCount</th>\n",
       "      <th>TotalSpend</th>\n",
       "      <th>AvgOrderValue</th>\n",
       "      <th>Region</th>\n",
       "      <th>CustomerTenure</th>\n",
       "      <th>PurchaseFrequency</th>\n",
       "    </tr>\n",
       "  </thead>\n",
       "  <tbody>\n",
       "    <tr>\n",
       "      <th>0</th>\n",
       "      <td>-0.011458</td>\n",
       "      <td>-0.061701</td>\n",
       "      <td>-0.070263</td>\n",
       "      <td>South America</td>\n",
       "      <td>1.148752</td>\n",
       "      <td>-0.670277</td>\n",
       "    </tr>\n",
       "    <tr>\n",
       "      <th>1</th>\n",
       "      <td>-0.467494</td>\n",
       "      <td>-0.877744</td>\n",
       "      <td>-0.934933</td>\n",
       "      <td>Asia</td>\n",
       "      <td>1.600431</td>\n",
       "      <td>-1.145810</td>\n",
       "    </tr>\n",
       "    <tr>\n",
       "      <th>2</th>\n",
       "      <td>-0.467494</td>\n",
       "      <td>-0.405857</td>\n",
       "      <td>-0.026271</td>\n",
       "      <td>South America</td>\n",
       "      <td>-0.713270</td>\n",
       "      <td>0.282158</td>\n",
       "    </tr>\n",
       "    <tr>\n",
       "      <th>3</th>\n",
       "      <td>1.356650</td>\n",
       "      <td>1.032547</td>\n",
       "      <td>-0.076769</td>\n",
       "      <td>South America</td>\n",
       "      <td>0.869141</td>\n",
       "      <td>0.004642</td>\n",
       "    </tr>\n",
       "    <tr>\n",
       "      <th>4</th>\n",
       "      <td>-0.923530</td>\n",
       "      <td>-0.783929</td>\n",
       "      <td>-0.040028</td>\n",
       "      <td>Asia</td>\n",
       "      <td>1.038137</td>\n",
       "      <td>-1.282711</td>\n",
       "    </tr>\n",
       "  </tbody>\n",
       "</table>\n",
       "</div>"
      ],
      "text/plain": [
       "   TransactionCount  TotalSpend  AvgOrderValue         Region  CustomerTenure  \\\n",
       "0         -0.011458   -0.061701      -0.070263  South America        1.148752   \n",
       "1         -0.467494   -0.877744      -0.934933           Asia        1.600431   \n",
       "2         -0.467494   -0.405857      -0.026271  South America       -0.713270   \n",
       "3          1.356650    1.032547      -0.076769  South America        0.869141   \n",
       "4         -0.923530   -0.783929      -0.040028           Asia        1.038137   \n",
       "\n",
       "   PurchaseFrequency  \n",
       "0          -0.670277  \n",
       "1          -1.145810  \n",
       "2           0.282158  \n",
       "3           0.004642  \n",
       "4          -1.282711  "
      ]
     },
     "execution_count": 36,
     "metadata": {},
     "output_type": "execute_result"
    }
   ],
   "source": [
    "df_sc.head()"
   ]
  },
  {
   "cell_type": "code",
   "execution_count": 37,
   "id": "60aebf7f",
   "metadata": {},
   "outputs": [],
   "source": [
    "x = pd.get_dummies(data=df_sc, columns=['Region'], drop_first=True, dtype='int')"
   ]
  },
  {
   "cell_type": "code",
   "execution_count": 38,
   "id": "bab120a9",
   "metadata": {},
   "outputs": [
    {
     "data": {
      "text/html": [
       "<div>\n",
       "<style scoped>\n",
       "    .dataframe tbody tr th:only-of-type {\n",
       "        vertical-align: middle;\n",
       "    }\n",
       "\n",
       "    .dataframe tbody tr th {\n",
       "        vertical-align: top;\n",
       "    }\n",
       "\n",
       "    .dataframe thead th {\n",
       "        text-align: right;\n",
       "    }\n",
       "</style>\n",
       "<table border=\"1\" class=\"dataframe\">\n",
       "  <thead>\n",
       "    <tr style=\"text-align: right;\">\n",
       "      <th></th>\n",
       "      <th>TransactionCount</th>\n",
       "      <th>TotalSpend</th>\n",
       "      <th>AvgOrderValue</th>\n",
       "      <th>CustomerTenure</th>\n",
       "      <th>PurchaseFrequency</th>\n",
       "      <th>Region_Europe</th>\n",
       "      <th>Region_North America</th>\n",
       "      <th>Region_South America</th>\n",
       "    </tr>\n",
       "  </thead>\n",
       "  <tbody>\n",
       "    <tr>\n",
       "      <th>0</th>\n",
       "      <td>-0.011458</td>\n",
       "      <td>-0.061701</td>\n",
       "      <td>-0.070263</td>\n",
       "      <td>1.148752</td>\n",
       "      <td>-0.670277</td>\n",
       "      <td>0</td>\n",
       "      <td>0</td>\n",
       "      <td>1</td>\n",
       "    </tr>\n",
       "    <tr>\n",
       "      <th>1</th>\n",
       "      <td>-0.467494</td>\n",
       "      <td>-0.877744</td>\n",
       "      <td>-0.934933</td>\n",
       "      <td>1.600431</td>\n",
       "      <td>-1.145810</td>\n",
       "      <td>0</td>\n",
       "      <td>0</td>\n",
       "      <td>0</td>\n",
       "    </tr>\n",
       "    <tr>\n",
       "      <th>2</th>\n",
       "      <td>-0.467494</td>\n",
       "      <td>-0.405857</td>\n",
       "      <td>-0.026271</td>\n",
       "      <td>-0.713270</td>\n",
       "      <td>0.282158</td>\n",
       "      <td>0</td>\n",
       "      <td>0</td>\n",
       "      <td>1</td>\n",
       "    </tr>\n",
       "    <tr>\n",
       "      <th>3</th>\n",
       "      <td>1.356650</td>\n",
       "      <td>1.032547</td>\n",
       "      <td>-0.076769</td>\n",
       "      <td>0.869141</td>\n",
       "      <td>0.004642</td>\n",
       "      <td>0</td>\n",
       "      <td>0</td>\n",
       "      <td>1</td>\n",
       "    </tr>\n",
       "    <tr>\n",
       "      <th>4</th>\n",
       "      <td>-0.923530</td>\n",
       "      <td>-0.783929</td>\n",
       "      <td>-0.040028</td>\n",
       "      <td>1.038137</td>\n",
       "      <td>-1.282711</td>\n",
       "      <td>0</td>\n",
       "      <td>0</td>\n",
       "      <td>0</td>\n",
       "    </tr>\n",
       "  </tbody>\n",
       "</table>\n",
       "</div>"
      ],
      "text/plain": [
       "   TransactionCount  TotalSpend  AvgOrderValue  CustomerTenure  \\\n",
       "0         -0.011458   -0.061701      -0.070263        1.148752   \n",
       "1         -0.467494   -0.877744      -0.934933        1.600431   \n",
       "2         -0.467494   -0.405857      -0.026271       -0.713270   \n",
       "3          1.356650    1.032547      -0.076769        0.869141   \n",
       "4         -0.923530   -0.783929      -0.040028        1.038137   \n",
       "\n",
       "   PurchaseFrequency  Region_Europe  Region_North America  \\\n",
       "0          -0.670277              0                     0   \n",
       "1          -1.145810              0                     0   \n",
       "2           0.282158              0                     0   \n",
       "3           0.004642              0                     0   \n",
       "4          -1.282711              0                     0   \n",
       "\n",
       "   Region_South America  \n",
       "0                     1  \n",
       "1                     0  \n",
       "2                     1  \n",
       "3                     1  \n",
       "4                     0  "
      ]
     },
     "execution_count": 38,
     "metadata": {},
     "output_type": "execute_result"
    }
   ],
   "source": [
    "x.head()"
   ]
  },
  {
   "cell_type": "code",
   "execution_count": 39,
   "id": "a3969565",
   "metadata": {
    "scrolled": true
   },
   "outputs": [
    {
     "data": {
      "text/plain": [
       "TransactionCount        float64\n",
       "TotalSpend              float64\n",
       "AvgOrderValue           float64\n",
       "CustomerTenure          float64\n",
       "PurchaseFrequency       float64\n",
       "Region_Europe             int32\n",
       "Region_North America      int32\n",
       "Region_South America      int32\n",
       "dtype: object"
      ]
     },
     "execution_count": 39,
     "metadata": {},
     "output_type": "execute_result"
    }
   ],
   "source": [
    "x.dtypes"
   ]
  },
  {
   "cell_type": "code",
   "execution_count": 40,
   "id": "aaf73c4c",
   "metadata": {
    "scrolled": true
   },
   "outputs": [
    {
     "data": {
      "text/plain": [
       "TransactionCount        0\n",
       "TotalSpend              0\n",
       "AvgOrderValue           0\n",
       "CustomerTenure          0\n",
       "PurchaseFrequency       0\n",
       "Region_Europe           0\n",
       "Region_North America    0\n",
       "Region_South America    0\n",
       "dtype: int64"
      ]
     },
     "execution_count": 40,
     "metadata": {},
     "output_type": "execute_result"
    }
   ],
   "source": [
    "x.isna().sum()"
   ]
  },
  {
   "cell_type": "code",
   "execution_count": 41,
   "id": "4999cc67",
   "metadata": {
    "scrolled": true
   },
   "outputs": [
    {
     "name": "stdout",
     "output_type": "stream",
     "text": [
      "TransactionCount        0\n",
      "TotalSpend              0\n",
      "AvgOrderValue           0\n",
      "CustomerTenure          0\n",
      "PurchaseFrequency       0\n",
      "Region_Europe           0\n",
      "Region_North America    0\n",
      "Region_South America    0\n",
      "dtype: int64\n"
     ]
    }
   ],
   "source": [
    "print(np.isinf(x).sum()) "
   ]
  },
  {
   "cell_type": "markdown",
   "id": "dc235c55",
   "metadata": {
    "scrolled": true
   },
   "source": [
    "# Finding the optimal K for clustering"
   ]
  },
  {
   "cell_type": "code",
   "execution_count": null,
   "id": "f814d87d-51dc-4d0b-8d1e-eab91e9c1b35",
   "metadata": {},
   "outputs": [],
   "source": []
  },
  {
   "cell_type": "code",
   "execution_count": 42,
   "id": "4903e5f1",
   "metadata": {},
   "outputs": [
    {
     "ename": "ModuleNotFoundError",
     "evalue": "No module named 'yellowbrick'",
     "output_type": "error",
     "traceback": [
      "\u001b[1;31m---------------------------------------------------------------------------\u001b[0m",
      "\u001b[1;31mModuleNotFoundError\u001b[0m                       Traceback (most recent call last)",
      "Cell \u001b[1;32mIn[42], line 3\u001b[0m\n\u001b[0;32m      1\u001b[0m \u001b[38;5;28;01mfrom\u001b[39;00m \u001b[38;5;21;01msklearn\u001b[39;00m\u001b[38;5;21;01m.\u001b[39;00m\u001b[38;5;21;01mmetrics\u001b[39;00m \u001b[38;5;28;01mimport\u001b[39;00m silhouette_score, davies_bouldin_score\n\u001b[0;32m      2\u001b[0m \u001b[38;5;28;01mfrom\u001b[39;00m \u001b[38;5;21;01msklearn\u001b[39;00m\u001b[38;5;21;01m.\u001b[39;00m\u001b[38;5;21;01mcluster\u001b[39;00m \u001b[38;5;28;01mimport\u001b[39;00m KMeans, AgglomerativeClustering, DBSCAN\n\u001b[1;32m----> 3\u001b[0m \u001b[38;5;28;01mfrom\u001b[39;00m \u001b[38;5;21;01myellowbrick\u001b[39;00m\u001b[38;5;21;01m.\u001b[39;00m\u001b[38;5;21;01mcluster\u001b[39;00m \u001b[38;5;28;01mimport\u001b[39;00m SilhouetteVisualizer\n",
      "\u001b[1;31mModuleNotFoundError\u001b[0m: No module named 'yellowbrick'"
     ]
    }
   ],
   "source": [
    "from sklearn.metrics import silhouette_score, davies_bouldin_score\n",
    "from sklearn.cluster import KMeans, AgglomerativeClustering, DBSCAN\n",
    "from yellowbrick.cluster import SilhouetteVisualizer"
   ]
  },
  {
   "cell_type": "code",
   "execution_count": 43,
   "id": "9179acfc",
   "metadata": {
    "scrolled": true
   },
   "outputs": [],
   "source": [
    "err = []\n",
    "for i in range(1,10):\n",
    "    km = KMeans(n_clusters=i, random_state=10)\n",
    "    km.fit(x)\n",
    "    err.append(km.inertia_)"
   ]
  },
  {
   "cell_type": "code",
   "execution_count": 44,
   "id": "a0955280",
   "metadata": {},
   "outputs": [
    {
     "data": {
      "image/png": "[encoded data removed]",
      "text/plain": [
       "<Figure size 800x500 with 1 Axes>"
      ]
     },
     "metadata": {},
     "output_type": "display_data"
    }
   ],
   "source": [
    "plt.figure(figsize=(8,5))\n",
    "plt.title('Elbow Plot to find Optimal K')\n",
    "plt.xlabel('Number of Clusters')\n",
    "plt.ylabel('Error')\n",
    "plt.plot(range(1,10), err, marker='o')\n",
    "plt.show()"
   ]
  },
  {
   "cell_type": "code",
   "execution_count": 45,
   "id": "417b5abb",
   "metadata": {},
   "outputs": [],
   "source": [
    "## Minimal inertia/Error is preferred\n",
    "## 3 clusters seems optimal"
   ]
  },
  {
   "cell_type": "code",
   "execution_count": 46,
   "id": "226e0836",
   "metadata": {
    "scrolled": true
   },
   "outputs": [
    {
     "name": "stdout",
     "output_type": "stream",
     "text": [
      "silhouette score of  2 = 0.2500823792459091\n"
     ]
    },
    {
     "ename": "NameError",
     "evalue": "name 'SilhouetteVisualizer' is not defined",
     "output_type": "error",
     "traceback": [
      "\u001b[1;31m---------------------------------------------------------------------------\u001b[0m",
      "\u001b[1;31mNameError\u001b[0m                                 Traceback (most recent call last)",
      "Cell \u001b[1;32mIn[46], line 8\u001b[0m\n\u001b[0;32m      5\u001b[0m sil_score \u001b[38;5;241m=\u001b[39m silhouette_score(x, km\u001b[38;5;241m.\u001b[39mlabels_)\n\u001b[0;32m      6\u001b[0m \u001b[38;5;28mprint\u001b[39m(\u001b[38;5;124m'\u001b[39m\u001b[38;5;124msilhouette score of \u001b[39m\u001b[38;5;124m'\u001b[39m,i,\u001b[38;5;124m'\u001b[39m\u001b[38;5;124m=\u001b[39m\u001b[38;5;124m'\u001b[39m, sil_score)\n\u001b[1;32m----> 8\u001b[0m sil_km \u001b[38;5;241m=\u001b[39m \u001b[43mSilhouetteVisualizer\u001b[49m(km)\n\u001b[0;32m      9\u001b[0m sil_km\u001b[38;5;241m.\u001b[39mfit(x)\n\u001b[0;32m     10\u001b[0m plt\u001b[38;5;241m.\u001b[39mshow()\n",
      "\u001b[1;31mNameError\u001b[0m: name 'SilhouetteVisualizer' is not defined"
     ]
    }
   ],
   "source": [
    "for i in range(2, 10):\n",
    "    km = KMeans(n_clusters=i, random_state=10)\n",
    "    km.fit(x)\n",
    "    \n",
    "    sil_score = silhouette_score(x, km.labels_)\n",
    "    print('silhouette score of ',i,'=', sil_score)\n",
    "    \n",
    "    sil_km = SilhouetteVisualizer(km)\n",
    "    sil_km.fit(x)\n",
    "    plt.show()"
   ]
  },
  {
   "cell_type": "code",
   "execution_count": null,
   "id": "e5f21586",
   "metadata": {},
   "outputs": [],
   "source": [
    "## Silhouette score is high for cluster 3 and it does not have any negative values also\n",
    "## Thus, proceeding with optimal number of clusters(k) as 3"
   ]
  },
  {
   "cell_type": "markdown",
   "id": "119a35ad",
   "metadata": {},
   "source": [
    "# KMeans Clustering"
   ]
  },
  {
   "cell_type": "code",
   "execution_count": null,
   "id": "eccc046a",
   "metadata": {},
   "outputs": [],
   "source": [
    "kmeans = KMeans(n_clusters=3, random_state=10)\n",
    "kmeans.fit(x)"
   ]
  },
  {
   "cell_type": "code",
   "execution_count": null,
   "id": "a7312513",
   "metadata": {},
   "outputs": [],
   "source": [
    "df['km_label'] = kmeans.labels_"
   ]
  },
  {
   "cell_type": "code",
   "execution_count": null,
   "id": "40deb3a9",
   "metadata": {},
   "outputs": [],
   "source": [
    "plt.title('Customer Distribution in clusters')\n",
    "df['km_label'].value_counts(normalize=True).plot(kind='pie', autopct='%.2f%%')\n",
    "plt.show()"
   ]
  },
  {
   "cell_type": "code",
   "execution_count": null,
   "id": "f39283fe",
   "metadata": {},
   "outputs": [],
   "source": [
    "cluster0 = df[df['km_label']==0]\n",
    "cluster1 = df[df['km_label']==1]\n",
    "cluster2 = df[df['km_label']==2]"
   ]
  },
  {
   "cell_type": "code",
   "execution_count": null,
   "id": "1021b94b",
   "metadata": {},
   "outputs": [],
   "source": [
    "cluster_summary = df.groupby('km_label').agg({\n",
    "    'TransactionCount': 'mean',\n",
    "    'TotalSpend': 'mean',\n",
    "    'CustomerTenure': 'mean',\n",
    "    'AvgOrderValue': 'mean',\n",
    "    'PurchaseFrequency': 'mean',\n",
    "    'Region':lambda x: x.mode()\n",
    "    \n",
    "})"
   ]
  },
  {
   "cell_type": "code",
   "execution_count": null,
   "id": "cc8f1efa",
   "metadata": {},
   "outputs": [],
   "source": [
    "cluster_summary"
   ]
  },
  {
   "cell_type": "code",
   "execution_count": null,
   "id": "ea8ee52e",
   "metadata": {},
   "outputs": [],
   "source": [
    "sns.scatterplot(data=df, y='TotalSpend', x='CustomerTenure', hue='km_label', palette='bright')\n",
    "plt.show()"
   ]
  },
  {
   "cell_type": "markdown",
   "id": "ca9f49e3",
   "metadata": {},
   "source": [
    "* Cluster 2: Well defined group of customers. Mostly from Europe. These customers include a wide range of tenure from new signups to old signups. The average purchasing frequency and number of transactions are lowest resulting in low average total spend and low AvgOrderValue.\n",
    "\n",
    "************************************************************************************************************************\n",
    "\n",
    "* Cluster1: Customers are mostly of longer tenure. These customers have the highest average total spend and highest average  transactions compared to other customer groups and are mostly from South America.\n",
    "\n",
    "************************************************************************************************************************\n",
    "\n",
    "* Cluster0: Customers are newly signedup. These customers are majorly from NorthAmerica. Though they are newly signedup, the purchase frequency is higher compared to the others groups and the average total spend is almost equal to the group/cluster1 customers. "
   ]
  },
  {
   "cell_type": "markdown",
   "id": "f005fc72",
   "metadata": {},
   "source": [
    "### Insights:\n",
    "* Cluster 0 includes North American customers who are newly registered and exhibit high spending behavior. This group has significant potential for increased sales and long-term retention.\n",
    "* Cluster 1 comprises long-term customers from South America who generate consistent revenue through frequent transactions. Strengthening loyalty programs and offering exclusive rewards can further enhance their lifetime value.\n",
    "* Customers from Cluster 2 are the most less engaged and they range from a diverse range of tenure. But they are mostly from Europe, suggesting a requirement for better marketing strategies to engage them."
   ]
  },
  {
   "cell_type": "code",
   "execution_count": null,
   "id": "f109ddcf",
   "metadata": {},
   "outputs": [],
   "source": [
    "## The clusters 0 and 1 are overlapping and are not well-defined. \n",
    "## Since KMeans clustering assumes spherical clusters and doesnot work well with elliptical clusters.\n",
    "## Thus, proceeding further with Agglomerative clustering."
   ]
  },
  {
   "cell_type": "markdown",
   "id": "38f10426",
   "metadata": {},
   "source": [
    "# Agglomerative Clustering"
   ]
  },
  {
   "cell_type": "code",
   "execution_count": null,
   "id": "0b0f2603",
   "metadata": {},
   "outputs": [],
   "source": [
    "from scipy.cluster.hierarchy import linkage, dendrogram, cophenet\n",
    "from scipy.spatial.distance import pdist"
   ]
  },
  {
   "cell_type": "code",
   "execution_count": null,
   "id": "ab6bcf49",
   "metadata": {},
   "outputs": [],
   "source": [
    "for i in ['single', 'complete', 'average', 'ward']:\n",
    "    z = linkage(x, method=i)\n",
    "    cop_corr, cdist = cophenet(z, pdist(x))\n",
    "    print('cophenetic correlation of ', i, '=', cop_corr)"
   ]
  },
  {
   "cell_type": "raw",
   "id": "3405b463",
   "metadata": {},
   "source": [
    "# Copenetic Correlation Coefficient is the correlation coefficient between the cophenetic distance and the actual distance \n",
    "between the observations. It is used for finding the best method of linkage.\n",
    "## Linkage refers to the method of the distance calculation between 2 clusters in order to merge them.\n",
    "### The cophenetic coefficient close to 1 incdicates the best linkage quality. r \n",
    "#### The cophenetic correlation for the average linkage method is higher (0.58)."
   ]
  },
  {
   "cell_type": "code",
   "execution_count": null,
   "id": "fa786ff7",
   "metadata": {},
   "outputs": [],
   "source": [
    "for i in ['single', 'complete', 'average', 'ward']:\n",
    "    plt.title(i)\n",
    "    z = linkage(x, method='average')\n",
    "    dendrogram(z,truncate_mode='lastp', p=20 )\n",
    "    plt.show()"
   ]
  },
  {
   "cell_type": "code",
   "execution_count": null,
   "id": "5f224e34",
   "metadata": {},
   "outputs": [],
   "source": [
    "agg = AgglomerativeClustering(n_clusters=2, linkage='average')\n",
    "agg.fit(x)"
   ]
  },
  {
   "cell_type": "code",
   "execution_count": null,
   "id": "ab536b6a",
   "metadata": {},
   "outputs": [],
   "source": [
    "df_new = df.copy()\n",
    "df_new['agg_label']  = agg.labels_"
   ]
  },
  {
   "cell_type": "code",
   "execution_count": null,
   "id": "6b704617",
   "metadata": {},
   "outputs": [],
   "source": [
    "cluster0 = df_new[df_new['agg_label']==0]\n",
    "cluster1 = df_new[df_new['agg_label']==1]"
   ]
  },
  {
   "cell_type": "code",
   "execution_count": null,
   "id": "c13e9593",
   "metadata": {},
   "outputs": [],
   "source": [
    "cluster_summary = df_new.groupby('agg_label').agg({\n",
    "    'TransactionCount': 'mean',\n",
    "    'TotalSpend': 'mean',\n",
    "    'CustomerTenure': 'mean',\n",
    "    'AvgOrderValue': 'mean',\n",
    "    'PurchaseFrequency': 'mean',\n",
    "    'Region':lambda x: x.mode()\n",
    "    \n",
    "})"
   ]
  },
  {
   "cell_type": "code",
   "execution_count": null,
   "id": "ebfc1f33",
   "metadata": {},
   "outputs": [],
   "source": [
    "cluster_summary"
   ]
  },
  {
   "cell_type": "code",
   "execution_count": null,
   "id": "869cf587",
   "metadata": {},
   "outputs": [],
   "source": [
    "sns.scatterplot(data=df_new, y='TotalSpend', x='CustomerTenure', hue='agg_label', palette='bright')\n",
    "plt.show()"
   ]
  },
  {
   "cell_type": "markdown",
   "id": "49b460b1",
   "metadata": {},
   "source": [
    "# Evaluation"
   ]
  },
  {
   "cell_type": "code",
   "execution_count": null,
   "id": "770de26a",
   "metadata": {},
   "outputs": [],
   "source": [
    "print('Silhouette Score for KMeans Clustering: ', silhouette_score(x, df_new['km_label']))\n",
    "print('Silhouette Score for Agglomerative Clustering: ', silhouette_score(x, df_new['agg_label']))"
   ]
  },
  {
   "cell_type": "code",
   "execution_count": null,
   "id": "6589fcd2",
   "metadata": {},
   "outputs": [],
   "source": [
    "print('DB Index for KMeans Clustering: ', davies_bouldin_score(x, df_new['km_label']))\n",
    "print('DB Index for Agglomerative Clustering: ', davies_bouldin_score(x, df_new['agg_label']))"
   ]
  },
  {
   "cell_type": "code",
   "execution_count": null,
   "id": "d564dd92",
   "metadata": {},
   "outputs": [],
   "source": [
    "# Lower DB index and Higher Silhouette Score with Agglomerative Clustering suggests better clustering method."
   ]
  },
  {
   "cell_type": "markdown",
   "id": "095e062d",
   "metadata": {},
   "source": [
    "# Final Thoughts"
   ]
  },
  {
   "cell_type": "code",
   "execution_count": null,
   "id": "4c0bfba2",
   "metadata": {},
   "outputs": [],
   "source": [
    "plt.title('Customer Distribution in clusters')\n",
    "df_new['agg_label'].value_counts(normalize=True).plot(kind='pie', autopct='%.2f%%')\n",
    "plt.show()"
   ]
  },
  {
   "cell_type": "code",
   "execution_count": null,
   "id": "60013995",
   "metadata": {
    "scrolled": true
   },
   "outputs": [],
   "source": [
    "cluster_summary"
   ]
  },
  {
   "cell_type": "code",
   "execution_count": null,
   "id": "460c8558",
   "metadata": {},
   "outputs": [],
   "source": [
    "sns.scatterplot(data=df_new, y='TotalSpend', x='PurchaseFrequency', hue='agg_label', palette='bright')\n",
    "plt.show()"
   ]
  },
  {
   "cell_type": "markdown",
   "id": "02a73048",
   "metadata": {},
   "source": [
    "* The 2 clusters formed by Agglomerative clustering distinguishes the customers into high engaging with high purchase frequency, higher value transactions (very low percent - around 2%) and low engaging and lower purchase frequency (more predominant 98%).\n",
    "* The higher engaging customers are predominantly from North America and the lower engaging customers from South America."
   ]
  },
  {
   "cell_type": "code",
   "execution_count": null,
   "id": "c3945ef7",
   "metadata": {},
   "outputs": [],
   "source": []
  }
 ],
 "metadata": {
  "kernelspec": {
   "display_name": "Python 3 (ipykernel)",
   "language": "python",
   "name": "python3"
  },
  "language_info": {
   "codemirror_mode": {
    "name": "ipython",
    "version": 3
   },
   "file_extension": ".py",
   "mimetype": "text/x-python",
   "name": "python",
   "nbconvert_exporter": "python",
   "pygments_lexer": "ipython3",
   "version": "3.10.11"
  },
  "widgets": {
   "application/vnd.jupyter.widget-state+json": {
    "state": {},
    "version_major": 2,
    "version_minor": 0
   }
  }
 },
 "nbformat": 4,
 "nbformat_minor": 5
}
